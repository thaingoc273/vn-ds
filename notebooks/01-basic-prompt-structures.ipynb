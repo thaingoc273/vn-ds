{
  "cells": [
    {
      "cell_type": "markdown",
      "metadata": {},
      "source": [
        "# Basic Prompt Structures Tutorial\n",
        "\n",
        "## Overview\n",
        "\n",
        "This tutorial explores two essential prompt structures used in AI interactions:\n",
        "1. Single-turn prompts\n",
        "2. Multi-turn prompts (conversations)\n",
        "\n",
        "We'll utilize Gemini Pro 1.5 via OpenRouter and LangChain to illustrate these concepts.\n",
        "\n",
        "## Motivation\n",
        "\n",
        "Grasping various prompt structures is essential for effective AI communication. Single-turn prompts excel in quick, direct queries, while multi-turn prompts facilitate more nuanced, context-rich exchanges. Proficiency in these structures enhances the versatility and efficacy of AI applications across diverse scenarios.\n",
        "\n",
        "## Key Components\n",
        "\n",
        "1. **Single-turn Prompts**: One-time interactions with the AI model.\n",
        "2. **Multi-turn Prompts**: Sequential exchanges that preserve context.\n",
        "3. **Prompt Templates**: Standardized structures for consistent AI querying.\n",
        "4. **Conversation Chains**: Techniques for maintaining context across multiple interactions."
      ]
    },
    {
      "cell_type": "markdown",
      "metadata": {},
      "source": [
        "## Setup\n",
        "\n",
        "First, let's import the necessary libraries and set up our environment."
      ]
    },
    {
      "cell_type": "code",
      "execution_count": 1,
      "metadata": {},
      "outputs": [],
      "source": [
        "from os import getenv\n",
        "from typing import List\n",
        "\n",
        "from dotenv import load_dotenv\n",
        "from langchain.prompts import PromptTemplate\n",
        "from langchain_core.chat_history import BaseChatMessageHistory\n",
        "from langchain_core.messages import BaseMessage\n",
        "from langchain_core.prompts import ChatPromptTemplate, MessagesPlaceholder\n",
        "from langchain_core.pydantic_v1 import BaseModel, Field\n",
        "from langchain_core.runnables.history import RunnableWithMessageHistory\n",
        "from langchain_openai import ChatOpenAI\n",
        "from langchain_openai.chat_models import ChatOpenAI\n",
        "\n",
        "load_dotenv()\n",
        "\n",
        "\n",
        "# Initialize the language model\n",
        "llm = ChatOpenAI(\n",
        "    openai_api_key=getenv(\"OPENROUTER_API_KEY\"),\n",
        "    openai_api_base=getenv(\"OPENROUTER_BASE_URL\"),\n",
        "    model_name=\"google/gemini-pro-1.5\",\n",
        ")"
      ]
    },
    {
      "cell_type": "markdown",
      "metadata": {},
      "source": [
        "## 1. Single-turn Prompts\n",
        "\n",
        "Single-turn prompts are one-shot interactions with the language model. They consist of a single input (prompt) and generate a single output (response)."
      ]
    },
    {
      "cell_type": "code",
      "execution_count": 2,
      "metadata": {},
      "outputs": [
        {
          "name": "stdout",
          "output_type": "stream",
          "text": [
            "The three primary colors are **red**, **yellow**, and **blue**.  These are called primary because they cannot be created by mixing other colors together, but they can be mixed to create a wide range of other colors.\n",
            "\n"
          ]
        }
      ],
      "source": [
        "single_turn_prompt = \"What are the three primary colors?\"\n",
        "print(llm.invoke(single_turn_prompt).content)"
      ]
    },
    {
      "cell_type": "markdown",
      "metadata": {},
      "source": [
        "Now, let's use a PromptTemplate to create a more structured single-turn prompt:"
      ]
    },
    {
      "cell_type": "code",
      "execution_count": 3,
      "metadata": {},
      "outputs": [
        {
          "name": "stdout",
          "output_type": "stream",
          "text": [
            "Color theory is a set of guiding principles that explain how colors mix, match, and create different visual effects. It explores how humans perceive color and the visual effects of how colors are combined, matched, or contrasted.  It's used in art, design, marketing, and other fields to evoke specific moods, create harmony, or make things stand out.\n",
            "\n",
            "The three main components of color theory are:\n",
            "\n",
            "1. **The Color Wheel:** A visual representation of colors arranged according to their relationships.  Different color wheels can be used (e.g., RYB or RGB), but they all illustrate basic relationships like complementary, analogous, and triadic colors.\n",
            "2. **Color Harmony:**  This refers to aesthetically pleasing color combinations.  It's based on the relationships of colors on the color wheel and aims to create a sense of balance and visual appeal.\n",
            "3. **The Color Context:** This emphasizes how colors appear relative to other colors surrounding them.  The same color can look dramatically different depending on its background or adjacent colors. This includes concepts like simultaneous contrast.\n",
            "\n"
          ]
        }
      ],
      "source": [
        "structured_prompt = PromptTemplate(\n",
        "    input_variables=[\"topic\"],\n",
        "    template=\"Provide a brief explanation of {topic} and list its three main components.\",\n",
        ")\n",
        "\n",
        "chain = structured_prompt | llm\n",
        "print(chain.invoke({\"topic\": \"color theory\"}).content)"
      ]
    },
    {
      "cell_type": "markdown",
      "metadata": {},
      "source": [
        "You can learn more about LangChain Expression Language from [LCEL](https://python.langchain.com/docs/concepts/lcel/)"
      ]
    },
    {
      "cell_type": "markdown",
      "metadata": {},
      "source": [
        "## 2. Multi-turn Prompts (Conversations)\n",
        "\n",
        "Multi-turn prompts involve a series of interactions with the language model, allowing for more complex and context-aware conversations."
      ]
    },
    {
      "cell_type": "code",
      "execution_count": 4,
      "metadata": {},
      "outputs": [],
      "source": [
        "class InMemoryHistory(BaseChatMessageHistory, BaseModel):\n",
        "    \"\"\"In memory implementation of chat message history.\"\"\"\n",
        "\n",
        "    messages: List[BaseMessage] = Field(default_factory=list)\n",
        "\n",
        "    def add_messages(self, messages: List[BaseMessage]) -> None:\n",
        "        \"\"\"Add a list of messages to the store\"\"\"\n",
        "        self.messages.extend(messages)\n",
        "\n",
        "    def clear(self) -> None:\n",
        "        self.messages = []\n",
        "\n",
        "\n",
        "# Here we use a global variable to store the chat message history.\n",
        "# This will make it easier to inspect it to see the underlying results.\n",
        "store = {}\n",
        "\n",
        "\n",
        "def get_by_session_id(session_id: str) -> BaseChatMessageHistory:\n",
        "    if session_id not in store:\n",
        "        store[session_id] = InMemoryHistory()\n",
        "    return store[session_id]"
      ]
    },
    {
      "cell_type": "code",
      "execution_count": 5,
      "metadata": {},
      "outputs": [
        {
          "name": "stdout",
          "output_type": "stream",
          "text": [
            "Let's talk about planets!  Here's a breakdown covering the basics:\n",
            "\n",
            "**What is a planet?**\n",
            "\n",
            "According to the International Astronomical Union (IAU), a planet is a celestial body that:\n",
            "\n",
            "1. **Orbits a star (in our case, the Sun).**\n",
            "2. **Is massive enough for its own gravity to make it round.**\n",
            "3. **Has cleared its orbital neighborhood.**  This means it's gravitationally dominant enough to have either absorbed or flung away other objects in its orbital path.\n",
            "\n",
            "**Types of Planets in Our Solar System:**\n",
            "\n",
            "Our solar system has eight planets, which are divided into two main categories:\n",
            "\n",
            "* **Inner, Rocky Planets (Terrestrial Planets):** These are smaller, denser planets made mostly of rock and metal. They are closer to the Sun and have few or no moons.\n",
            "    * **Mercury:** The smallest planet, closest to the Sun, and very hot.\n",
            "    * **Venus:** Similar in size to Earth but incredibly hot due to a thick, toxic atmosphere.\n",
            "    * **Earth:** Our home, the only known planet with life, and has one moon.\n",
            "    * **Mars:** The \"Red Planet\" due to iron oxide (rust) on its surface. It has a thin atmosphere and two small moons.\n",
            "\n",
            "* **Outer, Gas Giants (Jovian Planets):** These are much larger than the terrestrial planets and are composed mainly of gas (hydrogen and helium). They have rings and many moons.\n",
            "    * **Jupiter:** The largest planet in our solar system.\n",
            "    * **Saturn:** Famous for its prominent rings.\n",
            "    * **Uranus:** Tilted on its side, so it rotates almost horizontally.\n",
            "    * **Neptune:** The farthest planet from the Sun.\n",
            "\n",
            "**Dwarf Planets:**\n",
            "\n",
            "These objects meet the first two criteria for a planet but haven't cleared their orbital neighborhood.  The most famous dwarf planet is Pluto, which was reclassified in 2006.  Other dwarf planets include Ceres, Eris, Makemake, and Haumea.\n",
            "\n",
            "**Exoplanets:**\n",
            "\n",
            "These are planets that orbit stars *other than* our Sun.  Thousands of exoplanets have been discovered, and they come in a wide variety of sizes and compositions, some unlike anything in our solar system.\n",
            "\n",
            "**Key Characteristics of Planets:**\n",
            "\n",
            "* **Orbit:** The path a planet takes around its star.\n",
            "* **Rotation:** The spin of a planet on its axis.\n",
            "* **Atmosphere:** The gases surrounding a planet.\n",
            "* **Temperature:** Varies greatly depending on distance from the star and atmospheric composition.\n",
            "* **Moons:** Natural satellites that orbit planets.\n",
            "* **Rings:** Collections of dust, ice, and rock orbiting a planet, most notably seen around the gas giants.\n",
            "\n",
            "**Learning More:**\n",
            "\n",
            "There's so much more to discover about planets!  You can find a wealth of information online through resources like NASA, ESA, and various educational websites.  If you have any more specific questions, feel free to ask!\n",
            "\n",
            "Jupiter is the largest planet in our solar system.\n",
            "\n",
            "Jupiter dwarfs Earth. Here's a few ways to illustrate the size difference:\n",
            "\n",
            "* **Diameter:** Jupiter's diameter is about 11 times larger than Earth's.  Imagine lining up 11 Earths side-by-side \u2013 that's roughly how wide Jupiter is.\n",
            "\n",
            "* **Volume:**  Jupiter's volume is over 1,300 times greater than Earth's.  You could fit over 1,300 Earths *inside* Jupiter.\n",
            "\n",
            "* **Mass:** Jupiter is about 318 times more massive than Earth. This means it has much stronger gravity.\n",
            "\n",
            "While Jupiter is undeniably huge compared to Earth, it's still much smaller than the Sun.  The Sun accounts for over 99.8% of the total mass of our solar system!\n",
            "\n"
          ]
        }
      ],
      "source": [
        "prompt = ChatPromptTemplate.from_messages(\n",
        "    [\n",
        "        MessagesPlaceholder(variable_name=\"history\"),\n",
        "        (\"human\", \"{question}\"),\n",
        "    ]\n",
        ")\n",
        "\n",
        "chain = prompt | llm\n",
        "\n",
        "conversation = RunnableWithMessageHistory(\n",
        "    chain,\n",
        "    get_by_session_id,\n",
        "    input_messages_key=\"question\",\n",
        "    history_messages_key=\"history\",\n",
        ")\n",
        "\n",
        "print(\n",
        "    conversation.invoke(\n",
        "        input={\n",
        "            \"question\": \"Hi, I'm learning about space. Can you tell me about planets?\"\n",
        "        },\n",
        "        config={\"configurable\": {\"session_id\": \"foo\"}},\n",
        "    ).content\n",
        ")\n",
        "print(\n",
        "    conversation.invoke(\n",
        "        input={\"question\": \"What's the largest planet in our solar system?\"},\n",
        "        config={\"configurable\": {\"session_id\": \"foo\"}},\n",
        "    ).content\n",
        ")\n",
        "print(\n",
        "    conversation.invoke(\n",
        "        input={\"question\": \"How does its size compare to Earth?\"},\n",
        "        config={\"configurable\": {\"session_id\": \"foo\"}},\n",
        "    ).content\n",
        ")"
      ]
    },
    {
      "cell_type": "markdown",
      "metadata": {},
      "source": [
        "Let's compare how single-turn and multi-turn prompts handle a series of related questions:"
      ]
    },
    {
      "cell_type": "code",
      "execution_count": 6,
      "metadata": {},
      "outputs": [
        {
          "name": "stdout",
          "output_type": "stream",
          "text": [
            "Single-turn responses:\n",
            "Q: What is the capital of France?\n",
            "A: Paris\n",
            "\n",
            "\n",
            "Q: What is its population?\n",
            "A: Please specify what \"it\" refers to. I need more context to answer your question.  For example, are you asking about a country, city, state, or something else entirely?\n",
            "\n",
            "\n",
            "Q: What is the city's most famous landmark?\n",
            "A: Please tell me which city you're asking about! I need to know the city to tell you its most famous landmark.\n",
            "\n",
            "\n",
            "Multi-turn responses:\n",
            "Q: What is the capital of France?\n",
            "A: Paris\n",
            "\n",
            "\n",
            "Q: What is its population?\n",
            "A: The population of Paris is a bit tricky because it depends on what area you're talking about.  The city of Paris proper (intra-muros) has a population of around **2.1 million** people.  However, the \u00cele-de-France region, which includes Paris and its surrounding suburbs (often referred to as the Paris Region or Greater Paris), has a population of over **12 million** people.\n",
            "\n",
            "\n",
            "Q: What is the city's most famous landmark?\n",
            "A: The Eiffel Tower is arguably the most famous landmark in Paris.\n",
            "\n",
            "\n"
          ]
        }
      ],
      "source": [
        "# Single-turn prompts\n",
        "prompts = [\n",
        "    \"What is the capital of France?\",\n",
        "    \"What is its population?\",\n",
        "    \"What is the city's most famous landmark?\",\n",
        "]\n",
        "\n",
        "print(\"Single-turn responses:\")\n",
        "for prompt in prompts:\n",
        "    print(f\"Q: {prompt}\")\n",
        "    print(f\"A: {llm.invoke(prompt).content}\\n\")\n",
        "\n",
        "# Multi-turn prompts\n",
        "print(\"Multi-turn responses:\")\n",
        "for prompt in prompts:\n",
        "    print(f\"Q: {prompt}\")\n",
        "    response = conversation.invoke(\n",
        "        input={\"question\": prompt}, config={\"configurable\": {\"session_id\": \"bar\"}}\n",
        "    ).content\n",
        "    print(f\"A: {response}\\n\")"
      ]
    }
  ],
  "metadata": {
    "kernelspec": {
      "display_name": ".venv",
      "language": "python",
      "name": "python3"
    },
    "language_info": {
      "codemirror_mode": {
        "name": "ipython",
        "version": 3
      },
      "file_extension": ".py",
      "mimetype": "text/x-python",
      "name": "python",
      "nbconvert_exporter": "python",
      "pygments_lexer": "ipython3",
      "version": "3.11.10"
    }
  },
  "nbformat": 4,
  "nbformat_minor": 4
}
