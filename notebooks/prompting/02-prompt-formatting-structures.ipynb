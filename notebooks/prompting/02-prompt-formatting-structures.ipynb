{
  "cells": [
    {
      "cell_type": "markdown",
      "metadata": {},
      "source": [
        "# Prompt Formatting and Structure Tutorial\n",
        "\n",
        "## Overview\n",
        "\n",
        "This tutorial delves into various prompt formats and structural elements used in prompt engineering, showcasing their influence on AI model outputs. We'll utilize Google's Gemini via OpenRouter and LangChain to experiment with different prompt structures and evaluate their effectiveness.\n",
        "\n",
        "## Motivation\n",
        "\n",
        "Mastering the art of prompt formatting and structuring is essential for effective interaction with AI models. Well-crafted prompts can dramatically enhance the quality, relevance, and consistency of AI-generated responses. This tutorial aims to offer practical insights into designing prompts that yield desired outcomes across a range of applications.\n",
        "\n",
        "## Key Components\n",
        "\n",
        "1. Exploring diverse prompt formats (Q&A, dialogue, instructions)\n",
        "2. Examining structural elements (headings, bullet points, numbered lists)\n",
        "3. Evaluating and comparing prompt effectiveness\n",
        "4. Identifying best practices for prompt formatting"
      ]
    },
    {
      "cell_type": "markdown",
      "metadata": {},
      "source": [
        "## Setup\n",
        "\n",
        "First, let's import the necessary libraries and set up our environment."
      ]
    },
    {
      "cell_type": "code",
      "execution_count": 1,
      "metadata": {},
      "outputs": [],
      "source": [
        "from os import getenv\n",
        "\n",
        "from dotenv import load_dotenv\n",
        "from langchain_openai import ChatOpenAI\n",
        "\n",
        "load_dotenv()\n",
        "\n",
        "# Initialize the language model\n",
        "llm = ChatOpenAI(\n",
        "    openai_api_key=getenv(\"OPENROUTER_API_KEY\"),\n",
        "    openai_api_base=getenv(\"OPENROUTER_BASE_URL\"),\n",
        "    model_name=\"google/gemini-flash-1.5\",\n",
        ")"
      ]
    },
    {
      "cell_type": "code",
      "execution_count": 2,
      "metadata": {},
      "outputs": [],
      "source": [
        "def get_response(prompt: str, output: bool = False):\n",
        "    \"\"\"Helper function to get model response and print it.\"\"\"\n",
        "\n",
        "    response = llm.invoke(prompt).content\n",
        "    print(response)\n",
        "    print(\"-\" * 50)\n",
        "\n",
        "    if output:\n",
        "        return response"
      ]
    },
    {
      "cell_type": "markdown",
      "metadata": {},
      "source": [
        "## Exploring Different Prompt Formats\n",
        "\n",
        "Let's explore various prompt formats using the topic of photosynthesis as our consistent theme."
      ]
    },
    {
      "cell_type": "markdown",
      "metadata": {},
      "source": [
        "### 1. Question and Answer (Q&A) Format"
      ]
    },
    {
      "cell_type": "code",
      "execution_count": 3,
      "metadata": {},
      "outputs": [
        {
          "name": "stdout",
          "output_type": "stream",
          "text": [
            "C\u00e1ch pha c\u00e0 ph\u00ea s\u1eefa \u0111\u00e1 c\u00f3 nhi\u1ec1u bi\u1ebfn th\u1ec3 t\u00f9y thu\u1ed9c v\u00e0o kh\u1ea9u v\u1ecb v\u00e0 lo\u1ea1i c\u00e0 ph\u00ea b\u1ea1n s\u1eed d\u1ee5ng. D\u01b0\u1edbi \u0111\u00e2y l\u00e0 hai c\u00e1ch ph\u1ed5 bi\u1ebfn:\n",
            "\n",
            "**C\u00e1ch 1: C\u00e0 ph\u00ea s\u1eefa \u0111\u00e1 pha phin (d\u00e0nh cho c\u00e0 ph\u00ea phin)**\n",
            "\n",
            "* **Chu\u1ea9n b\u1ecb:**\n",
            "    * C\u00e0 ph\u00ea rang xay (kho\u1ea3ng 20-30g t\u00f9y kh\u1ea9u v\u1ecb,  cho 1-2 ng\u01b0\u1eddi)\n",
            "    * Phin pha c\u00e0 ph\u00ea\n",
            "    * N\u01b0\u1edbc s\u00f4i\n",
            "    * S\u1eefa \u0111\u1eb7c (ho\u1eb7c s\u1eefa t\u01b0\u01a1i c\u00f3 \u0111\u01b0\u1eddng)\n",
            "    * \u0110\u00e1 vi\u00ean\n",
            "    * Ly th\u1ee7y tinh\n",
            "\n",
            "* **C\u00e1c b\u01b0\u1edbc:**\n",
            "    * Cho c\u00e0 ph\u00ea v\u00e0o phin, n\u00e9n nh\u1eb9.\n",
            "    * Ch\u1ebf m\u1ed9t \u00edt n\u01b0\u1edbc s\u00f4i v\u00e0o c\u00e0 ph\u00ea \u0111\u1ec3 \u1ee7 kho\u1ea3ng 30 gi\u00e2y cho c\u00e0 ph\u00ea n\u1edf \u0111\u1ec1u.\n",
            "    * T\u1eeb t\u1eeb ch\u1ebf th\u00eam n\u01b0\u1edbc s\u00f4i v\u00e0o phin, \u0111\u1ec3 c\u00e0 ph\u00ea nh\u1ecf gi\u1ecdt t\u1eeb t\u1eeb.\n",
            "    * Khi c\u00e0 ph\u00ea nh\u1ecf gi\u1ecdt h\u1ebft, cho m\u1ed9t l\u01b0\u1ee3ng s\u1eefa \u0111\u1eb7c (ho\u1eb7c s\u1eefa t\u01b0\u01a1i c\u00f3 \u0111\u01b0\u1eddng) v\u1eeba \u00fd v\u00e0o ly.\n",
            "    * Cho \u0111\u00e1 vi\u00ean v\u00e0o ly.\n",
            "    * R\u00f3t c\u00e0 ph\u00ea \u0111\u00e3 pha v\u00e0o ly, khu\u1ea5y \u0111\u1ec1u v\u00e0 th\u01b0\u1edfng th\u1ee9c.\n",
            "\n",
            "\n",
            "**C\u00e1ch 2: C\u00e0 ph\u00ea s\u1eefa \u0111\u00e1 pha m\u00e1y (d\u00e0nh cho c\u00e0 ph\u00ea m\u00e1y, c\u00e0 ph\u00ea h\u00f2a tan)**\n",
            "\n",
            "* **Chu\u1ea9n b\u1ecb:**\n",
            "    * C\u00e0 ph\u00ea (b\u1ed9t c\u00e0 ph\u00ea pha m\u00e1y, c\u00e0 ph\u00ea h\u00f2a tan)\n",
            "    * N\u01b0\u1edbc n\u00f3ng (n\u1ebfu d\u00f9ng c\u00e0 ph\u00ea b\u1ed9t)\n",
            "    * S\u1eefa \u0111\u1eb7c (ho\u1eb7c s\u1eefa t\u01b0\u01a1i c\u00f3 \u0111\u01b0\u1eddng)\n",
            "    * \u0110\u00e1 vi\u00ean\n",
            "    * Ly th\u1ee7y tinh\n",
            "\n",
            "* **C\u00e1c b\u01b0\u1edbc:**\n",
            "    * **N\u1ebfu d\u00f9ng c\u00e0 ph\u00ea b\u1ed9t:** Pha c\u00e0 ph\u00ea b\u1eb1ng m\u00e1y pha c\u00e0 ph\u00ea theo h\u01b0\u1edbng d\u1eabn c\u1ee7a m\u00e1y.\n",
            "    * **N\u1ebfu d\u00f9ng c\u00e0 ph\u00ea h\u00f2a tan:** H\u00f2a tan c\u00e0 ph\u00ea v\u00e0o n\u01b0\u1edbc n\u00f3ng theo h\u01b0\u1edbng d\u1eabn tr\u00ean bao b\u00ec.\n",
            "    * Cho m\u1ed9t l\u01b0\u1ee3ng s\u1eefa \u0111\u1eb7c (ho\u1eb7c s\u1eefa t\u01b0\u01a1i c\u00f3 \u0111\u01b0\u1eddng) v\u1eeba \u00fd v\u00e0o ly.\n",
            "    * Cho \u0111\u00e1 vi\u00ean v\u00e0o ly.\n",
            "    * R\u00f3t c\u00e0 ph\u00ea \u0111\u00e3 pha v\u00e0o ly, khu\u1ea5y \u0111\u1ec1u v\u00e0 th\u01b0\u1edfng th\u1ee9c.\n",
            "\n",
            "\n",
            "**M\u1eb9o nh\u1ecf:**\n",
            "\n",
            "* T\u1ef7 l\u1ec7 c\u00e0 ph\u00ea v\u00e0 s\u1eefa t\u00f9y thu\u1ed9c v\u00e0o kh\u1ea9u v\u1ecb m\u1ed7i ng\u01b0\u1eddi. B\u1ea1n c\u00f3 th\u1ec3 \u0111i\u1ec1u ch\u1ec9nh l\u01b0\u1ee3ng s\u1eefa cho ph\u00f9 h\u1ee3p.\n",
            "* C\u00f3 th\u1ec3 th\u00eam \u0111\u01b0\u1eddng v\u00e0o c\u00e0 ph\u00ea n\u1ebfu mu\u1ed1n.\n",
            "* S\u1eed d\u1ee5ng \u0111\u00e1 vi\u00ean nh\u1ecf s\u1ebd gi\u00fap c\u00e0 ph\u00ea tan \u0111\u1ec1u v\u00e0 gi\u1eef l\u1ea1nh l\u00e2u h\u01a1n.\n",
            "*  N\u1ebfu d\u00f9ng s\u1eefa t\u01b0\u01a1i, b\u1ea1n c\u00f3 th\u1ec3 l\u00e0m \u1ea5m s\u1eefa tr\u01b0\u1edbc khi cho v\u00e0o \u0111\u1ec3 c\u00e0 ph\u00ea kh\u00f4ng b\u1ecb qu\u00e1 l\u1ea1nh.\n",
            "\n",
            "\n",
            "Ch\u00fac b\u1ea1n pha \u0111\u01b0\u1ee3c ly c\u00e0 ph\u00ea s\u1eefa \u0111\u00e1 ngon mi\u1ec7ng!\n",
            "\n",
            "--------------------------------------------------\n"
          ]
        }
      ],
      "source": [
        "qa_prompt = \"\"\"Q: C\u00e1ch pha c\u00e0 ph\u00ea s\u1eefa \u0111\u00e1?\n",
        "A:\"\"\"\n",
        "\n",
        "get_response(prompt=qa_prompt)"
      ]
    },
    {
      "cell_type": "markdown",
      "metadata": {},
      "source": [
        "### 2. Dialogue Format"
      ]
    },
    {
      "cell_type": "code",
      "execution_count": 4,
      "metadata": {},
      "outputs": [
        {
          "name": "stdout",
          "output_type": "stream",
          "text": [
            "Teacher: B\u00ed quy\u1ebft \u0111\u1ec3 pha m\u1ed9t ly c\u00e0 ph\u00ea s\u1eefa \u0111\u00e1 ngon n\u1eb1m \u1edf s\u1ef1 c\u00e2n b\u1eb1ng gi\u1eefa c\u00e0 ph\u00ea \u0111\u1eadm \u0111\u00e0, s\u1eefa t\u01b0\u01a1i m\u00e1t v\u00e0 \u0111\u00e1 l\u1ea1nh v\u1eeba ph\u1ea3i.  Kh\u00f4ng c\u00f3 c\u00f4ng th\u1ee9c c\u1ed1 \u0111\u1ecbnh, nh\u01b0ng m\u00ecnh s\u1ebd chia s\u1ebb m\u1ed9t v\u00e0i \u0111i\u1ec3m quan tr\u1ecdng:\n",
            "\n",
            "* **C\u00e0 ph\u00ea ch\u1ea5t l\u01b0\u1ee3ng:**  H\u00e3y b\u1eaft \u0111\u1ea7u v\u1edbi c\u00e0 ph\u00ea ngon.  H\u1ea1t c\u00e0 ph\u00ea t\u01b0\u01a1i rang xay s\u1ebd t\u1ea1o n\u00ean s\u1ef1 kh\u00e1c bi\u1ec7t l\u1edbn.  B\u1ea1n c\u00f3 th\u1ec3 d\u00f9ng c\u00e0 ph\u00ea phin, c\u00e0 ph\u00ea m\u00e1y, ho\u1eb7c c\u00e0 ph\u00ea h\u00f2a tan ch\u1ea5t l\u01b0\u1ee3ng cao.  \u0110i\u1ec1u quan tr\u1ecdng l\u00e0 c\u00e0 ph\u00ea ph\u1ea3i c\u00f3 h\u01b0\u01a1ng v\u1ecb \u0111\u1eadm \u0111\u00e0, kh\u00f4ng b\u1ecb chua g\u1eaft hay \u0111\u1eafng ch\u00e1t.\n",
            "\n",
            "* **T\u1ec9 l\u1ec7 c\u00e0 ph\u00ea v\u00e0 s\u1eefa:**  T\u1ec9 l\u1ec7 n\u00e0y ph\u1ee5 thu\u1ed9c v\u00e0o kh\u1ea9u v\u1ecb c\u1ee7a m\u1ed7i ng\u01b0\u1eddi.  Tuy nhi\u00ean, m\u1ed9t t\u1ec9 l\u1ec7 ph\u1ed5 bi\u1ebfn l\u00e0 1:1 ho\u1eb7c 1:1.5 (c\u00e0 ph\u00ea: s\u1eefa).  B\u1ea1n c\u00f3 th\u1ec3 b\u1eaft \u0111\u1ea7u v\u1edbi t\u1ec9 l\u1ec7 n\u00e0y r\u1ed3i \u0111i\u1ec1u ch\u1ec9nh cho ph\u00f9 h\u1ee3p v\u1edbi s\u1edf th\u00edch c\u1ee7a m\u00ecnh.  N\u1ebfu th\u00edch c\u00e0 ph\u00ea \u0111\u1eadm h\u01a1n, h\u00e3y t\u0103ng l\u01b0\u1ee3ng c\u00e0 ph\u00ea.  N\u1ebfu th\u00edch s\u1eefa nhi\u1ec1u h\u01a1n, h\u00e3y t\u0103ng l\u01b0\u1ee3ng s\u1eefa.\n",
            "\n",
            "* **Lo\u1ea1i s\u1eefa:** S\u1eefa t\u01b0\u01a1i kh\u00f4ng \u0111\u01b0\u1eddng l\u00e0 l\u1ef1a ch\u1ecdn l\u00fd t\u01b0\u1edfng.  S\u1eefa \u0111\u1eb7c c\u00f3 \u0111\u01b0\u1eddng s\u1ebd l\u00e0m cho ly c\u00e0 ph\u00ea ng\u1ecdt h\u01a1n, nh\u01b0ng c\u00f3 th\u1ec3 che l\u1ea5p \u0111i h\u01b0\u01a1ng v\u1ecb c\u1ee7a c\u00e0 ph\u00ea.  B\u1ea1n c\u0169ng c\u00f3 th\u1ec3 th\u1eed c\u00e1c lo\u1ea1i s\u1eefa kh\u00e1c nh\u01b0 s\u1eefa h\u1ea1nh nh\u00e2n, s\u1eefa \u0111\u1eadu n\u00e0nh t\u00f9y theo s\u1edf th\u00edch.\n",
            "\n",
            "* **\u0110\u00e1:**  \u0110\u00e1 ph\u1ea3i l\u00e0 \u0111\u00e1 vi\u00ean nh\u1ecf, s\u1ea1ch v\u00e0 l\u1ea1nh.  \u0110\u00e1 l\u1edbn s\u1ebd l\u00e0m lo\u00e3ng c\u00e0 ph\u00ea qu\u00e1 nhanh.  Th\u00eam \u0111\u00e1 t\u1eeb t\u1eeb \u0111\u1ec3 ki\u1ec3m so\u00e1t \u0111\u1ed9 l\u1ea1nh v\u00e0 \u0111\u1ed9 lo\u00e3ng c\u1ee7a ly c\u00e0 ph\u00ea.\n",
            "\n",
            "* **Nhi\u1ec7t \u0111\u1ed9:** C\u00e0 ph\u00ea n\u00ean \u0111\u01b0\u1ee3c pha \u1edf nhi\u1ec7t \u0111\u1ed9 v\u1eeba ph\u1ea3i, kh\u00f4ng qu\u00e1 n\u00f3ng. N\u1ebfu d\u00f9ng c\u00e0 ph\u00ea n\u00f3ng, n\u00ean \u0111\u1ec3 ngu\u1ed9i b\u1edbt tr\u01b0\u1edbc khi cho s\u1eefa v\u00e0 \u0111\u00e1 v\u00e0o.\n",
            "\n",
            "* **Th\u1eed nghi\u1ec7m v\u00e0 \u0111i\u1ec1u ch\u1ec9nh:**  Quan tr\u1ecdng nh\u1ea5t l\u00e0 b\u1ea1n ph\u1ea3i th\u1eed nghi\u1ec7m v\u00e0 \u0111i\u1ec1u ch\u1ec9nh cho \u0111\u1ebfn khi t\u00ecm ra t\u1ec9 l\u1ec7 v\u00e0 c\u00e1ch pha ph\u00f9 h\u1ee3p v\u1edbi kh\u1ea9u v\u1ecb c\u1ee7a m\u00ecnh.  H\u00e3y ghi ch\u00e9p l\u1ea1i nh\u1eefng g\u00ec b\u1ea1n \u0111\u00e3 l\u00e0m \u0111\u1ec3 c\u00f3 th\u1ec3 t\u00e1i t\u1ea1o l\u1ea1i ly c\u00e0 ph\u00ea ngon c\u1ee7a m\u00ecnh.\n",
            "\n",
            "T\u00f3m l\u1ea1i, b\u00ed quy\u1ebft kh\u00f4ng ch\u1ec9 n\u1eb1m \u1edf c\u00f4ng th\u1ee9c, m\u00e0 c\u00f2n \u1edf s\u1ef1 t\u1ec9 m\u1ec9, s\u1ef1 l\u1ef1a ch\u1ecdn nguy\u00ean li\u1ec7u ch\u1ea5t l\u01b0\u1ee3ng v\u00e0 s\u1ef1 tinh t\u1ebf trong vi\u1ec7c pha ch\u1ebf \u0111\u1ec3 t\u1ea1o n\u00ean m\u1ed9t ly c\u00e0 ph\u00ea s\u1eefa \u0111\u00e1 ho\u00e0n h\u1ea3o.  H\u00e3y c\u1ee9 th\u1eed v\u00e0 t\u1eadn h\u01b0\u1edfng nh\u00e9!\n",
            "\n",
            "--------------------------------------------------\n"
          ]
        }
      ],
      "source": [
        "dialogue_prompt = \"\"\"Student: H\u00e3y ch\u1ec9 em c\u00e1ch pha c\u00e0 ph\u00ea s\u1eefa \u0111\u00e1?\n",
        "Teacher: Okay! c\u00e1ch pha c\u0169ng d\u1ec5 th\u00f4i ...\n",
        "Student: V\u1eady b\u00ed quy\u1ebft \u0111\u1ec3 pha m\u1ed9t ly c\u00e0 ph\u00ea s\u1eefa \u0111\u00e1 ngon l\u00e0 g\u00ec?\n",
        "Teacher:\"\"\"\n",
        "\n",
        "get_response(prompt=dialogue_prompt)"
      ]
    },
    {
      "cell_type": "markdown",
      "metadata": {},
      "source": [
        "### 3. Instruction Format"
      ]
    },
    {
      "cell_type": "code",
      "execution_count": 5,
      "metadata": {},
      "outputs": [
        {
          "name": "stdout",
          "output_type": "stream",
          "text": [
            "Pha c\u00e0 ph\u00ea s\u1eefa \u0111\u00e1 \u0111\u01a1n gi\u1ea3n l\u1eafm!  Ch\u1ec9 c\u1ea7n ba th\u1ee9 ch\u00ednh:\n",
            "\n",
            "1. **C\u00e0 ph\u00ea:**  \u0110\u00e2y l\u00e0 linh h\u1ed3n c\u1ee7a th\u1ee9c u\u1ed1ng. B\u1ea1n c\u00f3 th\u1ec3 d\u00f9ng c\u00e0 ph\u00ea pha phin, c\u00e0 ph\u00ea h\u00f2a tan, ho\u1eb7c espresso \u0111\u1ec1u \u0111\u01b0\u1ee3c.  C\u00e0 ph\u00ea c\u00e0ng ngon th\u00ec ly c\u00e0 ph\u00ea s\u1eefa \u0111\u00e1 c\u00e0ng ngon.  T\u1ea7m quan tr\u1ecdng: Cung c\u1ea5p v\u1ecb \u0111\u1eafng, th\u01a1m v\u00e0 ch\u1ea5t caffeine.\n",
            "\n",
            "2. **S\u1eefa:**  Th\u01b0\u1eddng d\u00f9ng s\u1eefa t\u01b0\u01a1i ho\u1eb7c s\u1eefa \u0111\u1eb7c. S\u1eefa t\u01b0\u01a1i cho v\u1ecb nh\u1eb9 nh\u00e0ng, s\u1eefa \u0111\u1eb7c cho v\u1ecb b\u00e9o v\u00e0 ng\u1ecdt h\u01a1n. T\u00f9y kh\u1ea9u v\u1ecb m\u00e0 b\u1ea1n ch\u1ecdn lo\u1ea1i s\u1eefa ph\u00f9 h\u1ee3p. T\u1ea7m quan tr\u1ecdng: Cung c\u1ea5p v\u1ecb ng\u1ecdt, b\u00e9o, l\u00e0m gi\u1ea3m \u0111\u1ed9 \u0111\u1eafng c\u1ee7a c\u00e0 ph\u00ea v\u00e0 t\u1ea1o \u0111\u1ed9 s\u00e1nh m\u1ecbn.\n",
            "\n",
            "3. **\u0110\u00e1:**  \u0110\u00e1 vi\u00ean gi\u00fap l\u00e0m l\u1ea1nh c\u00e0 ph\u00ea s\u1eefa, t\u1ea1o c\u1ea3m gi\u00e1c m\u00e1t l\u1ea1nh v\u00e0 d\u1ec5 ch\u1ecbu, \u0111\u1eb7c bi\u1ec7t l\u00e0 trong th\u1eddi ti\u1ebft n\u00f3ng.  T\u1ea7m quan tr\u1ecdng: L\u00e0m m\u00e1t th\u1ee9c u\u1ed1ng.\n",
            "\n",
            "**C\u00e1ch pha:**\n",
            "\n",
            "\u0110\u01a1n gi\u1ea3n nh\u1ea5t l\u00e0 pha c\u00e0 ph\u00ea r\u1ed3i cho s\u1eefa v\u00e0 \u0111\u00e1 v\u00e0o khu\u1ea5y \u0111\u1ec1u.  N\u1ebfu d\u00f9ng s\u1eefa \u0111\u1eb7c, b\u1ea1n c\u00f3 th\u1ec3 cho m\u1ed9t \u00edt n\u01b0\u1edbc n\u00f3ng v\u00e0o khu\u1ea5y tan tr\u01b0\u1edbc r\u1ed3i m\u1edbi cho v\u00e0o c\u00e0 ph\u00ea. T\u1ef7 l\u1ec7 c\u00e0 ph\u00ea v\u00e0 s\u1eefa t\u00f9y thu\u1ed9c s\u1edf th\u00edch, c\u00f3 ng\u01b0\u1eddi th\u00edch \u0111\u1eadm c\u00e0 ph\u00ea, c\u00f3 ng\u01b0\u1eddi th\u00edch nhi\u1ec1u s\u1eefa h\u01a1n.\n",
            "\n",
            "\n",
            "T\u00f3m l\u1ea1i,  c\u00e0 ph\u00ea, s\u1eefa v\u00e0 \u0111\u00e1 l\u00e0 ba th\u00e0nh ph\u1ea7n kh\u00f4ng th\u1ec3 thi\u1ebfu, m\u1ed7i th\u00e0nh ph\u1ea7n \u0111\u1ec1u \u0111\u00f3ng vai tr\u00f2 quan tr\u1ecdng trong vi\u1ec7c t\u1ea1o n\u00ean h\u01b0\u01a1ng v\u1ecb v\u00e0 c\u1ea3m gi\u00e1c tuy\u1ec7t v\u1eddi c\u1ee7a ly c\u00e0 ph\u00ea s\u1eefa \u0111\u00e1.\n",
            "\n",
            "--------------------------------------------------\n"
          ]
        }
      ],
      "source": [
        "instruction_prompt = \"\"\"H\u00e3y gi\u1ea3i th\u00edch m\u1ed9t c\u00e1ch \u0111\u01a1n gi\u1ea3n c\u00e1ch pha c\u00e0 ph\u00ea s\u1eefa \u0111\u00e1, bao g\u1ed3m c\u00e1c th\u00e0nh ph\u1ea7n ch\u00ednh v\u00e0 t\u1ea7m quan tr\u1ecdng c\u1ee7a n\u00f3.\"\"\"\n",
        "\n",
        "get_response(prompt=instruction_prompt)"
      ]
    },
    {
      "cell_type": "markdown",
      "metadata": {},
      "source": [
        "## Impact of Structural Elements\n",
        "\n",
        "Now, let's examine how structural elements like headings and lists affect the AI's response."
      ]
    },
    {
      "cell_type": "markdown",
      "metadata": {},
      "source": [
        "### 1. Using Headings"
      ]
    },
    {
      "cell_type": "code",
      "execution_count": 6,
      "metadata": {},
      "outputs": [
        {
          "name": "stdout",
          "output_type": "stream",
          "text": [
            "# \u0110\u1ecbnh ngh\u0129a\n",
            "\n",
            "C\u00e0 ph\u00ea s\u1eefa \u0111\u00e1 l\u00e0 m\u1ed9t lo\u1ea1i th\u1ee9c u\u1ed1ng \u0111\u01b0\u1ee3c pha ch\u1ebf t\u1eeb c\u00e0 ph\u00ea pha s\u1eb5n, s\u1eefa (th\u01b0\u1eddng l\u00e0 s\u1eefa \u0111\u1eb7c ho\u1eb7c s\u1eefa t\u01b0\u01a1i), v\u00e0 \u0111\u00e1 vi\u00ean.  N\u00f3 l\u00e0 m\u1ed9t th\u1ee9c u\u1ed1ng ph\u1ed5 bi\u1ebfn \u1edf nhi\u1ec1u qu\u1ed1c gia ch\u00e2u \u00c1, \u0111\u1eb7c bi\u1ec7t l\u00e0 Vi\u1ec7t Nam, mang h\u01b0\u01a1ng v\u1ecb \u0111\u1eadm \u0111\u00e0 c\u1ee7a c\u00e0 ph\u00ea k\u1ebft h\u1ee3p v\u1edbi v\u1ecb ng\u1ecdt v\u00e0 b\u00e9o ng\u1eady c\u1ee7a s\u1eefa, \u0111\u01b0\u1ee3c l\u00e0m l\u1ea1nh \u0111\u1ec3 t\u1ea1o c\u1ea3m gi\u00e1c s\u1ea3ng kho\u00e1i.\n",
            "\n",
            "# Qu\u00e1 tr\u00ecnh\n",
            "\n",
            "1. **Pha c\u00e0 ph\u00ea:**  C\u00f3 nhi\u1ec1u c\u00e1ch pha c\u00e0 ph\u00ea t\u00f9y theo s\u1edf th\u00edch, c\u00f3 th\u1ec3 d\u00f9ng phin, m\u00e1y pha c\u00e0 ph\u00ea espresso, c\u00e0 ph\u00ea h\u00f2a tan...  M\u1ee5c ti\u00eau l\u00e0 t\u1ea1o ra m\u1ed9t l\u01b0\u1ee3ng c\u00e0 ph\u00ea \u0111\u1eadm \u0111\u1eb7c theo kh\u1ea9u v\u1ecb.\n",
            "\n",
            "2. **Chu\u1ea9n b\u1ecb s\u1eefa:**  Cho s\u1eefa \u0111\u1eb7c ho\u1eb7c s\u1eefa t\u01b0\u01a1i v\u00e0o ly, l\u01b0\u1ee3ng s\u1eefa t\u00f9y thu\u1ed9c v\u00e0o s\u1edf th\u00edch v\u1ec1 \u0111\u1ed9 ng\u1ecdt v\u00e0 \u0111\u1ed9 b\u00e9o.  N\u1ebfu d\u00f9ng s\u1eefa t\u01b0\u01a1i, c\u00f3 th\u1ec3 th\u00eam \u0111\u01b0\u1eddng t\u00f9y \u00fd.\n",
            "\n",
            "3. **Tr\u1ed9n c\u00e0 ph\u00ea v\u00e0 s\u1eefa:**  Cho c\u00e0 ph\u00ea \u0111\u00e3 pha v\u00e0o ly ch\u1ee9a s\u1eefa.  Khu\u1ea5y \u0111\u1ec1u h\u1ed7n h\u1ee3p cho \u0111\u1ebfn khi c\u00e0 ph\u00ea v\u00e0 s\u1eefa h\u00f2a quy\u1ec7n ho\u00e0n to\u00e0n.\n",
            "\n",
            "4. **Th\u00eam \u0111\u00e1:**  Th\u00eam \u0111\u00e1 vi\u00ean v\u00e0o ly, l\u01b0\u1ee3ng \u0111\u00e1 t\u00f9y thu\u1ed9c v\u00e0o s\u1edf th\u00edch v\u1ec1 \u0111\u1ed9 l\u1ea1nh c\u1ee7a th\u1ee9c u\u1ed1ng.\n",
            "\n",
            "5. **Tr\u00ecnh b\u00e0y (t\u00f9y ch\u1ecdn):**  C\u00f3 th\u1ec3 trang tr\u00ed th\u00eam b\u1eb1ng m\u1ed9t \u00edt kem t\u01b0\u01a1i, b\u1ed9t cacao, ho\u1eb7c l\u00e1 b\u1ea1c h\u00e0 \u0111\u1ec3 t\u0103ng th\u00eam v\u1ebb \u0111\u1eb9p v\u00e0 h\u01b0\u01a1ng v\u1ecb.\n",
            "\n",
            "\n",
            "# Th\u00e0nh ph\u1ea7n ch\u00ednh\n",
            "\n",
            "* **C\u00e0 ph\u00ea:**  Th\u00e0nh ph\u1ea7n ch\u00ednh t\u1ea1o n\u00ean h\u01b0\u01a1ng v\u1ecb \u0111\u1eb7c tr\u01b0ng c\u1ee7a th\u1ee9c u\u1ed1ng.  C\u00f3 th\u1ec3 d\u00f9ng c\u00e0 ph\u00ea Robusta, Arabica ho\u1eb7c pha tr\u1ed9n t\u00f9y theo s\u1edf th\u00edch.\n",
            "* **S\u1eefa:**  Th\u01b0\u1eddng d\u00f9ng s\u1eefa \u0111\u1eb7c c\u00f3 \u0111\u01b0\u1eddng ho\u1eb7c s\u1eefa t\u01b0\u01a1i.  S\u1eefa t\u1ea1o n\u00ean v\u1ecb ng\u1ecdt, b\u00e9o v\u00e0 l\u00e0m d\u1ecbu b\u1edbt v\u1ecb \u0111\u1eafng c\u1ee7a c\u00e0 ph\u00ea.\n",
            "* **\u0110\u00e1 vi\u00ean:**  L\u00e0m l\u1ea1nh th\u1ee9c u\u1ed1ng, t\u1ea1o c\u1ea3m gi\u00e1c s\u1ea3ng kho\u00e1i.  \u0110\u00e1 vi\u00ean n\u00ean \u0111\u01b0\u1ee3c l\u00e0m t\u1eeb n\u01b0\u1edbc s\u1ea1ch \u0111\u1ec3 tr\u00e1nh l\u00e0m \u1ea3nh h\u01b0\u1edfng \u0111\u1ebfn h\u01b0\u01a1ng v\u1ecb c\u1ee7a c\u00e0 ph\u00ea s\u1eefa \u0111\u00e1.\n",
            "* **\u0110\u01b0\u1eddng (t\u00f9y ch\u1ecdn):**  N\u1ebfu d\u00f9ng s\u1eefa t\u01b0\u01a1i, c\u00f3 th\u1ec3 c\u1ea7n th\u00eam \u0111\u01b0\u1eddng \u0111\u1ec3 \u0111i\u1ec1u ch\u1ec9nh \u0111\u1ed9 ng\u1ecdt theo kh\u1ea9u v\u1ecb.\n",
            "\n",
            "--------------------------------------------------\n"
          ]
        }
      ],
      "source": [
        "headings_prompt = \"\"\"Gi\u1ea3i th\u00edch c\u00e1ch pha c\u00e0 ph\u00ea s\u1eefa \u0111\u00e1 v\u1edbi c\u1ea5u tr\u00fac nh\u01b0 sau:\n",
        "\n",
        "# \u0110\u1ecbnh ngh\u0129a\n",
        "\n",
        "# Qu\u00e1 tr\u00ecnh\n",
        "\n",
        "# Th\u00e0nh ph\u1ea7n ch\u00ednh\n",
        "\"\"\"\n",
        "\n",
        "get_response(prompt=headings_prompt)"
      ]
    },
    {
      "cell_type": "markdown",
      "metadata": {},
      "source": [
        "### 2. Using Bullet Points"
      ]
    },
    {
      "cell_type": "code",
      "execution_count": 7,
      "metadata": {},
      "outputs": [
        {
          "name": "stdout",
          "output_type": "stream",
          "text": [
            "* C\u00e0 ph\u00ea\n",
            "* S\u1eefa\n",
            "* \u0110\u00e1\n",
            "\n",
            "--------------------------------------------------\n"
          ]
        }
      ],
      "source": [
        "bullet_points_prompt = \"\"\"Li\u1ec7t k\u00ea c\u00e1c th\u00e0nh ph\u1ea7n ch\u00ednh c\u1ee7a c\u00e0 ph\u00ea s\u1eefa \u0111\u00e1:\n",
        "\n",
        "\u2022 \n",
        "\u2022 \n",
        "\u2022 \n",
        "\"\"\"\n",
        "\n",
        "get_response(prompt=bullet_points_prompt)"
      ]
    },
    {
      "cell_type": "markdown",
      "metadata": {},
      "source": [
        "### 3. Using Numbered Lists"
      ]
    },
    {
      "cell_type": "code",
      "execution_count": 8,
      "metadata": {},
      "outputs": [
        {
          "name": "stdout",
          "output_type": "stream",
          "text": [
            "C\u00e1ch pha c\u00e0 ph\u00ea s\u1eefa \u0111\u00e1:\n",
            "\n",
            "1. **Pha c\u00e0 ph\u00ea:** Chu\u1ea9n b\u1ecb c\u00e0 ph\u00ea theo s\u1edf th\u00edch (pha phin, m\u00e1y pha espresso, c\u00e0 ph\u00ea h\u00f2a tan...).  N\u1ebfu d\u00f9ng phin,  cho c\u00e0 ph\u00ea v\u00e0o phin, r\u00f3t n\u01b0\u1edbc s\u00f4i t\u1eeb t\u1eeb, \u0111\u1ee3i c\u00e0 ph\u00ea ch\u1ea3y h\u1ebft. N\u1ebfu d\u00f9ng m\u00e1y pha, th\u1ef1c hi\u1ec7n theo h\u01b0\u1edbng d\u1eabn c\u1ee7a m\u00e1y. N\u1ebfu d\u00f9ng c\u00e0 ph\u00ea h\u00f2a tan, h\u00f2a tan v\u1edbi n\u01b0\u1edbc n\u00f3ng theo h\u01b0\u1edbng d\u1eabn tr\u00ean bao b\u00ec.  \u0110\u1ec3 c\u00e0 ph\u00ea ngu\u1ed9i b\u1edbt (kh\u00f4ng c\u1ea7n qu\u00e1 l\u1ea1nh).\n",
            "\n",
            "2. **Chu\u1ea9n b\u1ecb \u0111\u00e1:** Cho \u0111\u00e1 vi\u00ean v\u00e0o ly.  L\u01b0\u1ee3ng \u0111\u00e1 t\u00f9y thu\u1ed9c v\u00e0o s\u1edf th\u00edch v\u1ec1 \u0111\u1ed9 l\u1ea1nh v\u00e0 l\u01b0\u1ee3ng c\u00e0 ph\u00ea s\u1eefa. N\u00ean d\u00f9ng \u0111\u00e1 vi\u00ean to \u0111\u1ec3 gi\u1eef l\u1ea1nh l\u00e2u h\u01a1n.\n",
            "\n",
            "3. **Th\u00eam s\u1eefa:** Cho s\u1eefa v\u00e0o ly \u0111\u00e1.  S\u1eed d\u1ee5ng lo\u1ea1i s\u1eefa y\u00eau th\u00edch (s\u1eefa t\u01b0\u01a1i, s\u1eefa \u0111\u1eb7c, s\u1eefa c\u00f3 \u0111\u01b0\u1eddng, s\u1eefa kh\u00f4ng \u0111\u01b0\u1eddng...). L\u01b0\u1ee3ng s\u1eefa t\u00f9y thu\u1ed9c kh\u1ea9u v\u1ecb, c\u00f3 th\u1ec3 \u0111i\u1ec1u ch\u1ec9nh sao cho ph\u00f9 h\u1ee3p.\n",
            "\n",
            "4. **Tr\u1ed9n \u0111\u1ec1u:**  \u0110\u1ed5 c\u00e0 ph\u00ea \u0111\u00e3 pha v\u00e0o ly c\u00f3 \u0111\u00e1 v\u00e0 s\u1eefa. Khu\u1ea5y \u0111\u1ec1u cho \u0111\u1ebfn khi c\u00e0 ph\u00ea v\u00e0 s\u1eefa h\u00f2a quy\u1ec7n ho\u00e0n to\u00e0n.  Th\u01b0\u1edfng th\u1ee9c ngay.\n",
            "\n",
            "--------------------------------------------------\n"
          ]
        }
      ],
      "source": [
        "numbered_list_prompt = \"\"\"Gi\u1ea3i th\u00edch c\u00e1ch pha c\u00e0 ph\u00ea s\u1eefa \u0111\u00e1 v\u1edbi tr\u00ecnh t\u1ef1 nh\u01b0 sau:\n",
        "\n",
        "1.\n",
        "2.\n",
        "3.\n",
        "4.\n",
        "\"\"\"\n",
        "\n",
        "get_response(prompt=numbered_list_prompt)"
      ]
    },
    {
      "cell_type": "markdown",
      "metadata": {},
      "source": [
        "## Comparing Prompt Effectiveness\n",
        "\n",
        "Let's compare the effectiveness of different prompt structures for a specific task."
      ]
    },
    {
      "cell_type": "code",
      "execution_count": 9,
      "metadata": {},
      "outputs": [
        {
          "name": "stdout",
          "output_type": "stream",
          "text": [
            "Prompt 1:\n",
            "C\u00e0 ph\u00ea s\u1eefa \u0111\u00e1 kh\u00f4ng ch\u1ec9 l\u00e0 m\u1ed9t th\u1ee9c u\u1ed1ng \u0111\u01a1n thu\u1ea7n m\u00e0 \u0111\u00e3 tr\u1edf th\u00e0nh m\u1ed9t ph\u1ea7n v\u0103n ho\u00e1, m\u1ed9t bi\u1ec3u t\u01b0\u1ee3ng g\u1eafn li\u1ec1n v\u1edbi cu\u1ed9c s\u1ed1ng c\u1ee7a ng\u01b0\u1eddi Vi\u1ec7t Nam.  S\u1ef1 quan tr\u1ecdng c\u1ee7a n\u00f3 n\u1eb1m \u1edf nhi\u1ec1u kh\u00eda c\u1ea1nh:\n",
            "\n",
            "* **V\u0103n ho\u00e1 x\u00e3 h\u1ed9i:** C\u00e0 ph\u00ea s\u1eefa \u0111\u00e1 l\u00e0 th\u1ee9c u\u1ed1ng ph\u1ed5 bi\u1ebfn \u0111\u01b0\u1ee3c th\u01b0\u1edfng th\u1ee9c \u1edf m\u1ecdi t\u1ea7ng l\u1edbp, m\u1ecdi l\u1ee9a tu\u1ed5i.  N\u00f3 l\u00e0 ch\u1ea5t x\u00fac t\u00e1c cho c\u00e1c m\u1ed1i quan h\u1ec7 x\u00e3 h\u1ed9i, t\u1eeb nh\u1eefng bu\u1ed5i g\u1eb7p g\u1ee1 b\u1ea1n b\u00e8, gia \u0111\u00ecnh, cho \u0111\u1ebfn nh\u1eefng cu\u1ed9c l\u00e0m \u0103n, \u0111\u00e0m ph\u00e1n. Qu\u00e1n c\u00e0 ph\u00ea tr\u1edf th\u00e0nh kh\u00f4ng gian g\u1eb7p g\u1ee1, giao l\u01b0u, chia s\u1ebb, t\u1ea1o n\u00ean s\u1ef1 g\u1eafn k\u1ebft c\u1ed9ng \u0111\u1ed3ng.\n",
            "\n",
            "* **Kh\u00eda c\u1ea1nh kinh t\u1ebf:** Ng\u00e0nh c\u00e0 ph\u00ea Vi\u1ec7t Nam \u0111\u00f3ng g\u00f3p \u0111\u00e1ng k\u1ec3 v\u00e0o n\u1ec1n kinh t\u1ebf qu\u1ed1c gia.  Vi\u1ec7c s\u1ea3n xu\u1ea5t, ch\u1ebf bi\u1ebfn, kinh doanh c\u00e0 ph\u00ea s\u1eefa \u0111\u00e1 t\u1ea1o ra nhi\u1ec1u vi\u1ec7c l\u00e0m, thu nh\u1eadp cho ng\u01b0\u1eddi d\u00e2n, t\u1eeb n\u00f4ng d\u00e2n tr\u1ed3ng c\u00e0 ph\u00ea \u0111\u1ebfn ch\u1ee7 qu\u00e1n c\u00e0 ph\u00ea, nh\u00e2n vi\u00ean ph\u1ee5c v\u1ee5.\n",
            "\n",
            "* **N\u00e9t \u0111\u1eb7c tr\u01b0ng v\u0103n ho\u00e1:** C\u00e0 ph\u00ea s\u1eefa \u0111\u00e1 mang \u0111\u1eadm n\u00e9t v\u0103n ho\u00e1 Vi\u1ec7t Nam, v\u1edbi c\u00f4ng th\u1ee9c pha ch\u1ebf ri\u00eang bi\u1ec7t, h\u01b0\u01a1ng v\u1ecb \u0111\u1eb7c tr\u01b0ng kh\u00f3 l\u1eabn v\u1edbi c\u00e1c lo\u1ea1i c\u00e0 ph\u00ea kh\u00e1c tr\u00ean th\u1ebf gi\u1edbi.  N\u00f3 ph\u1ea3n \u00e1nh s\u1ef1 kh\u00e9o l\u00e9o, tinh t\u1ebf trong c\u00e1ch pha ch\u1ebf v\u00e0 th\u01b0\u1edfng th\u1ee9c c\u1ee7a ng\u01b0\u1eddi Vi\u1ec7t.\n",
            "\n",
            "* **Kh\u00eda c\u1ea1nh tinh th\u1ea7n:** C\u00e0 ph\u00ea s\u1eefa \u0111\u00e1 kh\u00f4ng ch\u1ec9 l\u00e0 th\u1ee9c u\u1ed1ng gi\u1ea3i kh\u00e1t m\u00e0 c\u00f2n l\u00e0 ngu\u1ed3n n\u0103ng l\u01b0\u1ee3ng, gi\u00fap ng\u01b0\u1eddi Vi\u1ec7t b\u1eaft \u0111\u1ea7u m\u1ed9t ng\u00e0y l\u00e0m vi\u1ec7c m\u1edbi, v\u1ef1c d\u1eady tinh th\u1ea7n sau nh\u1eefng gi\u1edd ph\u00fat c\u0103ng th\u1eb3ng.  N\u00f3 tr\u1edf th\u00e0nh m\u1ed9t ph\u1ea7n th\u00f3i quen, m\u1ed9t ritual h\u00e0ng ng\u00e0y kh\u00f4ng th\u1ec3 thi\u1ebfu \u0111\u1ed1i v\u1edbi nhi\u1ec1u ng\u01b0\u1eddi.\n",
            "\n",
            "* **S\u1ef1 ti\u1ec7n l\u1ee3i v\u00e0 gi\u00e1 c\u1ea3:** C\u00e0 ph\u00ea s\u1eefa \u0111\u00e1 c\u00f3 gi\u00e1 c\u1ea3 ph\u1ea3i ch\u0103ng, d\u1ec5 d\u00e0ng t\u00ecm mua \u1edf kh\u1eafp m\u1ecdi n\u01a1i, t\u1eeb qu\u00e1n c\u00f3c nh\u1ecf \u0111\u1ebfn nh\u1eefng ti\u1ec7m c\u00e0 ph\u00ea sang tr\u1ecdng. S\u1ef1 ti\u1ec7n l\u1ee3i n\u00e0y g\u00f3p ph\u1ea7n l\u00e0m cho n\u00f3 tr\u1edf n\u00ean ph\u1ed5 bi\u1ebfn v\u00e0 g\u1ea7n g\u0169i v\u1edbi m\u1ecdi ng\u01b0\u1eddi.\n",
            "\n",
            "T\u00f3m l\u1ea1i, c\u00e0 ph\u00ea s\u1eefa \u0111\u00e1 kh\u00f4ng ch\u1ec9 \u0111\u01a1n gi\u1ea3n l\u00e0 m\u1ed9t lo\u1ea1i \u0111\u1ed3 u\u1ed1ng m\u00e0 \u0111\u00e3 tr\u1edf th\u00e0nh m\u1ed9t bi\u1ec3u t\u01b0\u1ee3ng v\u0103n ho\u00e1, m\u1ed9t ph\u1ea7n kh\u00f4ng th\u1ec3 thi\u1ebfu trong cu\u1ed9c s\u1ed1ng h\u00e0ng ng\u00e0y c\u1ee7a ng\u01b0\u1eddi Vi\u1ec7t Nam, ph\u1ea3n \u00e1nh  s\u1ef1 n\u0103ng \u0111\u1ed9ng, tinh th\u1ea7n c\u1ed9ng \u0111\u1ed3ng v\u00e0 n\u00e9t \u0111\u1eb7c tr\u01b0ng v\u0103n ho\u00e1 c\u1ee7a d\u00e2n t\u1ed9c.\n",
            "\n",
            "--------------------------------------------------\n",
            "Prompt 2:\n",
            "C\u00e0 ph\u00ea s\u1eefa \u0111\u00e1 kh\u00f4ng ch\u1ec9 l\u00e0 m\u1ed9t th\u1ee9c u\u1ed1ng, m\u00e0 \u0111\u00e3 tr\u1edf th\u00e0nh m\u1ed9t ph\u1ea7n kh\u00f4ng th\u1ec3 thi\u1ebfu trong cu\u1ed9c s\u1ed1ng c\u1ee7a ng\u01b0\u1eddi Vi\u1ec7t Nam, \u0111\u00f3ng vai tr\u00f2 quan tr\u1ecdng tr\u00ean nhi\u1ec1u ph\u01b0\u01a1ng di\u1ec7n:\n",
            "\n",
            "**1. K\u1ebft n\u1ed1i x\u00e3 h\u1ed9i:**\n",
            "\n",
            "* **N\u01a1i g\u1eb7p g\u1ee1, tr\u00f2 chuy\u1ec7n:** Qu\u00e1n c\u00e0 ph\u00ea s\u1eefa \u0111\u00e1 l\u00e0 \u0111i\u1ec3m h\u1eb9n quen thu\u1ed9c c\u1ee7a ng\u01b0\u1eddi Vi\u1ec7t Nam m\u1ecdi l\u1ee9a tu\u1ed5i, t\u1eeb nh\u1eefng bu\u1ed5i g\u1eb7p g\u1ee1 b\u1ea1n b\u00e8, gia \u0111\u00ecnh, cho \u0111\u1ebfn c\u00e1c cu\u1ed9c h\u1ecdp kinh doanh.  Ly c\u00e0 ph\u00ea s\u1eefa \u0111\u00e1 tr\u1edf th\u00e0nh \"nh\u00e2n ch\u1ee9ng\" cho nh\u1eefng c\u00e2u chuy\u1ec7n, chia s\u1ebb, v\u00e0 s\u1ef1 g\u1eafn k\u1ebft c\u1ed9ng \u0111\u1ed3ng.  Kh\u00f4ng kh\u00ed tho\u1ea3i m\u00e1i, th\u00e2n m\u1eadt c\u1ee7a qu\u00e1n c\u00e0 ph\u00ea t\u1ea1o \u0111i\u1ec1u ki\u1ec7n cho vi\u1ec7c giao l\u01b0u, x\u00e2y d\u1ef1ng m\u1ed1i quan h\u1ec7.\n",
            "* **V\u0103n ho\u00e1 giao ti\u1ebfp:**  Vi\u1ec7c c\u00f9ng nhau th\u01b0\u1edfng th\u1ee9c c\u00e0 ph\u00ea s\u1eefa \u0111\u00e1 t\u1ea1o ra m\u1ed9t kh\u00f4ng gian ri\u00eang t\u01b0 nh\u01b0ng v\u1eabn g\u1ea7n g\u0169i, d\u1ec5 d\u00e0ng b\u1eaft chuy\u1ec7n v\u00e0 chia s\u1ebb. N\u00f3 tr\u1edf th\u00e0nh m\u1ed9t ph\u1ea7n kh\u00f4ng th\u1ec3 thi\u1ebfu trong v\u0103n ho\u00e1 giao ti\u1ebfp c\u1ee7a ng\u01b0\u1eddi Vi\u1ec7t, gi\u00fap t\u1ea1o n\u00ean s\u1ef1 th\u00e2n thi\u1ec7n v\u00e0 g\u1ea7n g\u0169i.\n",
            "* **K\u1ebft n\u1ed1i th\u1ebf h\u1ec7:** T\u1eeb ng\u01b0\u1eddi gi\u00e0 \u0111\u1ebfn tr\u1ebb nh\u1ecf \u0111\u1ec1u c\u00f3 th\u1ec3 c\u00f9ng nhau th\u01b0\u1edfng th\u1ee9c c\u00e0 ph\u00ea s\u1eefa \u0111\u00e1 (d\u00f9 tr\u1ebb nh\u1ecf th\u01b0\u1eddng u\u1ed1ng c\u00e1c bi\u1ebfn th\u1ec3 \u00edt \u0111\u01b0\u1eddng ho\u1eb7c s\u1eefa), t\u1ea1o n\u00ean s\u1ef1 k\u1ebft n\u1ed1i gi\u1eefa c\u00e1c th\u1ebf h\u1ec7 trong gia \u0111\u00ecnh v\u00e0 x\u00e3 h\u1ed9i.\n",
            "\n",
            "\n",
            "**2. T\u00e1c d\u1ee5ng s\u1ee9c kho\u1ebb (c\u00f3 \u0111i\u1ec1u ki\u1ec7n):**\n",
            "\n",
            "* **N\u0103ng l\u01b0\u1ee3ng ban mai:**  C\u00e0 ph\u00ea s\u1eefa \u0111\u00e1 cung c\u1ea5p caffeine, gi\u00fap t\u1ec9nh t\u00e1o v\u00e0 t\u0103ng n\u0103ng l\u01b0\u1ee3ng v\u00e0o bu\u1ed5i s\u00e1ng, h\u1ed7 tr\u1ee3 ng\u01b0\u1eddi Vi\u1ec7t b\u1eaft \u0111\u1ea7u ng\u00e0y l\u00e0m vi\u1ec7c hay h\u1ecdc t\u1eadp hi\u1ec7u qu\u1ea3.  \u0110\u00e2y l\u00e0 m\u1ed9t ngu\u1ed3n n\u0103ng l\u01b0\u1ee3ng nhanh ch\u00f3ng v\u00e0 quen thu\u1ed9c.\n",
            "* **Kh\u1ea3 n\u0103ng ch\u1ed1ng oxy h\u00f3a (\u1edf m\u1ee9c \u0111\u1ed9 h\u1ea1n ch\u1ebf):** C\u00e0 ph\u00ea, th\u00e0nh ph\u1ea7n ch\u00ednh c\u1ee7a th\u1ee9c u\u1ed1ng, ch\u1ee9a m\u1ed9t s\u1ed1 ch\u1ea5t ch\u1ed1ng oxy ho\u00e1, tuy nhi\u00ean t\u00e1c d\u1ee5ng n\u00e0y b\u1ecb h\u1ea1n ch\u1ebf b\u1edfi l\u01b0\u1ee3ng \u0111\u01b0\u1eddng v\u00e0 s\u1eefa c\u00f3 trong c\u00e0 ph\u00ea s\u1eefa \u0111\u00e1.  Vi\u1ec7c ti\u00eau th\u1ee5 qu\u00e1 nhi\u1ec1u \u0111\u01b0\u1eddng l\u1ea1i g\u00e2y h\u1ea1i cho s\u1ee9c kho\u1ebb.\n",
            "* **L\u01b0u \u00fd:**  C\u1ea7n l\u01b0u \u00fd r\u1eb1ng, vi\u1ec7c ti\u00eau th\u1ee5 qu\u00e1 nhi\u1ec1u c\u00e0 ph\u00ea s\u1eefa \u0111\u00e1 c\u00f3 th\u1ec3 g\u00e2y \u1ea3nh h\u01b0\u1edfng ti\u00eau c\u1ef1c \u0111\u1ebfn s\u1ee9c kho\u1ebb nh\u01b0 m\u1ea5t ng\u1ee7, tim \u0111\u1eadp nhanh, lo\u00e3ng x\u01b0\u01a1ng (do l\u01b0\u1ee3ng \u0111\u01b0\u1eddng v\u00e0 caffeine cao).  Vi\u1ec7c \u0111i\u1ec1u ch\u1ec9nh l\u01b0\u1ee3ng \u0111\u01b0\u1eddng v\u00e0 caffeine l\u00e0 r\u1ea5t quan tr\u1ecdng \u0111\u1ec3 t\u1eadn h\u01b0\u1edfng th\u1ee9c u\u1ed1ng n\u00e0y m\u1ed9t c\u00e1ch l\u00e0nh m\u1ea1nh.\n",
            "\n",
            "\n",
            "**3. S\u1ef1 \u0111a d\u1ea1ng:**\n",
            "\n",
            "* **Bi\u1ebfn th\u1ec3 phong ph\u00fa:** C\u00e0 ph\u00ea s\u1eefa \u0111\u00e1 kh\u00f4ng ch\u1ec9 \u0111\u01a1n thu\u1ea7n l\u00e0 c\u00e0 ph\u00ea pha v\u1edbi s\u1eefa v\u00e0 \u0111\u00e1.  N\u00f3 c\u00f3 r\u1ea5t nhi\u1ec1u bi\u1ebfn th\u1ec3 d\u1ef1a tr\u00ean lo\u1ea1i c\u00e0 ph\u00ea (Robusta, Arabica), lo\u1ea1i s\u1eefa (s\u1eefa t\u01b0\u01a1i, s\u1eefa \u0111\u1eb7c, s\u1eefa \u0111\u1eadu n\u00e0nh\u2026), \u0111\u1ed9 ng\u1ecdt, v\u00e0 c\u00e1ch pha ch\u1ebf (c\u00e0 ph\u00ea phin, c\u00e0 ph\u00ea m\u00e1y\u2026). S\u1ef1 \u0111a d\u1ea1ng n\u00e0y \u0111\u00e1p \u1ee9ng \u0111\u01b0\u1ee3c kh\u1ea9u v\u1ecb v\u00e0 s\u1edf th\u00edch c\u1ee7a nhi\u1ec1u ng\u01b0\u1eddi.\n",
            "* **S\u1ef1 th\u00edch nghi:** C\u00e0 ph\u00ea s\u1eefa \u0111\u00e1 \u0111\u00e3 th\u00edch nghi v\u00e0 bi\u1ebfn \u0111\u1ed5i theo t\u1eebng v\u00f9ng mi\u1ec1n, t\u1ea1o n\u00ean nh\u1eefng h\u01b0\u01a1ng v\u1ecb \u0111\u1eb7c tr\u01b0ng ri\u00eang bi\u1ec7t.  \u0110i\u1ec1u n\u00e0y th\u1ec3 hi\u1ec7n s\u1ef1 \u0111a d\u1ea1ng v\u0103n ho\u00e1 v\u00e0 \u1ea9m th\u1ef1c c\u1ee7a Vi\u1ec7t Nam.\n",
            "* **Ph\u00e1t tri\u1ec3n kinh t\u1ebf:**  Ng\u00e0nh c\u00f4ng nghi\u1ec7p c\u00e0 ph\u00ea s\u1eefa \u0111\u00e1 g\u00f3p ph\u1ea7n \u0111\u00e1ng k\u1ec3 v\u00e0o n\u1ec1n kinh t\u1ebf Vi\u1ec7t Nam, t\u1ea1o vi\u1ec7c l\u00e0m cho h\u00e0ng tri\u1ec7u ng\u01b0\u1eddi t\u1eeb kh\u00e2u s\u1ea3n xu\u1ea5t, ch\u1ebf bi\u1ebfn \u0111\u1ebfn kinh doanh.\n",
            "\n",
            "\n",
            "T\u00f3m l\u1ea1i, c\u00e0 ph\u00ea s\u1eefa \u0111\u00e1 kh\u00f4ng ch\u1ec9 l\u00e0 m\u1ed9t th\u1ee9c u\u1ed1ng \u0111\u01a1n thu\u1ea7n m\u00e0 c\u00f2n l\u00e0 m\u1ed9t ph\u1ea7n v\u0103n ho\u00e1, x\u00e3 h\u1ed9i v\u00e0 kinh t\u1ebf quan tr\u1ecdng, g\u1eafn li\u1ec1n v\u1edbi cu\u1ed9c s\u1ed1ng th\u01b0\u1eddng nh\u1eadt c\u1ee7a ng\u01b0\u1eddi Vi\u1ec7t Nam.  N\u00f3 l\u00e0 s\u1ee3i d\u00e2y k\u1ebft n\u1ed1i c\u1ed9ng \u0111\u1ed3ng, ngu\u1ed3n n\u0103ng l\u01b0\u1ee3ng cho m\u1ed9t ng\u00e0y m\u1edbi, v\u00e0 bi\u1ec3u hi\u1ec7n cho s\u1ef1 \u0111a d\u1ea1ng v\u00e0 phong ph\u00fa c\u1ee7a \u1ea9m th\u1ef1c Vi\u1ec7t.\n",
            "\n",
            "--------------------------------------------------\n",
            "Prompt 3:\n",
            "A: C\u00e0 ph\u00ea s\u1eefa \u0111\u00e1 r\u1ea5t quan tr\u1ecdng \u0111\u1ed1i v\u1edbi cu\u1ed9c s\u1ed1ng c\u1ee7a ng\u01b0\u1eddi Vi\u1ec7t Nam v\u00ec:\n",
            "\n",
            "1. **V\u0103n h\u00f3a v\u00e0 th\u00f3i quen:** C\u00e0 ph\u00ea s\u1eefa \u0111\u00e1 \u0111\u00e3 tr\u1edf th\u00e0nh m\u1ed9t ph\u1ea7n kh\u00f4ng th\u1ec3 thi\u1ebfu trong v\u0103n h\u00f3a v\u00e0 th\u00f3i quen sinh ho\u1ea1t h\u00e0ng ng\u00e0y c\u1ee7a ng\u01b0\u1eddi Vi\u1ec7t.  T\u1eeb ng\u01b0\u1eddi gi\u00e0 \u0111\u1ebfn tr\u1ebb nh\u1ecf, t\u1eeb th\u00e0nh th\u1ecb \u0111\u1ebfn n\u00f4ng th\u00f4n, h\u1ea7u h\u1ebft m\u1ecdi ng\u01b0\u1eddi \u0111\u1ec1u th\u01b0\u1edfng th\u1ee9c c\u00e0 ph\u00ea s\u1eefa \u0111\u00e1. N\u00f3 l\u00e0 th\u1ee9c u\u1ed1ng quen thu\u1ed9c, g\u1eafn li\u1ec1n v\u1edbi nh\u1eefng bu\u1ed5i tr\u00f2 chuy\u1ec7n, g\u1eb7p g\u1ee1 b\u1ea1n b\u00e8, gia \u0111\u00ecnh, hay \u0111\u01a1n gi\u1ea3n ch\u1ec9 l\u00e0 m\u1ed9t c\u00e1ch \u0111\u1ec3 b\u1eaft \u0111\u1ea7u ng\u00e0y m\u1edbi n\u0103ng \u0111\u1ed9ng.\n",
            "\n",
            "2. **Gi\u00e1 c\u1ea3 ph\u1ea3i ch\u0103ng v\u00e0 d\u1ec5 ti\u1ebfp c\u1eadn:** C\u00e0 ph\u00ea s\u1eefa \u0111\u00e1 c\u00f3 gi\u00e1 c\u1ea3 t\u01b0\u01a1ng \u0111\u1ed1i r\u1ebb, d\u1ec5 d\u00e0ng ti\u1ebfp c\u1eadn v\u1edbi m\u1ecdi t\u1ea7ng l\u1edbp trong x\u00e3 h\u1ed9i.  T\u1eeb nh\u1eefng qu\u00e1n c\u00f3c nh\u1ecf ven \u0111\u01b0\u1eddng \u0111\u1ebfn nh\u1eefng qu\u00e1n c\u00e0 ph\u00ea sang tr\u1ecdng, ng\u01b0\u1eddi ta \u0111\u1ec1u c\u00f3 th\u1ec3 t\u00ecm th\u1ea5y v\u00e0 th\u01b0\u1edfng th\u1ee9c lo\u1ea1i th\u1ee9c u\u1ed1ng n\u00e0y.  \u0110i\u1ec1u n\u00e0y g\u00f3p ph\u1ea7n l\u00e0m cho c\u00e0 ph\u00ea s\u1eefa \u0111\u00e1 tr\u1edf n\u00ean ph\u1ed5 bi\u1ebfn r\u1ed9ng r\u00e3i.\n",
            "\n",
            "3. **Kh\u00ed h\u1eadu v\u00e0 h\u01b0\u01a1ng v\u1ecb:** Kh\u00ed h\u1eadu nhi\u1ec7t \u0111\u1edbi n\u00f3ng \u1ea9m c\u1ee7a Vi\u1ec7t Nam l\u00e0m cho c\u00e0 ph\u00ea s\u1eefa \u0111\u00e1 tr\u1edf th\u00e0nh th\u1ee9c u\u1ed1ng l\u00fd t\u01b0\u1edfng \u0111\u1ec3 gi\u1ea3i kh\u00e1t v\u00e0 l\u00e0m d\u1ecbu c\u01a1n n\u00f3ng. H\u01b0\u01a1ng v\u1ecb \u0111\u1eadm \u0111\u00e0, th\u01a1m ngon c\u1ee7a c\u00e0 ph\u00ea h\u00f2a quy\u1ec7n v\u1edbi v\u1ecb ng\u1ecdt d\u1ecbu c\u1ee7a s\u1eefa t\u1ea1o n\u00ean m\u1ed9t s\u1ef1 k\u1ebft h\u1ee3p ho\u00e0n h\u1ea3o, ph\u00f9 h\u1ee3p v\u1edbi kh\u1ea9u v\u1ecb c\u1ee7a ng\u01b0\u1eddi Vi\u1ec7t.  N\u00f3 mang l\u1ea1i c\u1ea3m gi\u00e1c t\u1ec9nh t\u00e1o, s\u1ea3ng kho\u00e1i v\u00e0 gi\u00fap ng\u01b0\u1eddi ta c\u00f3 th\u00eam n\u0103ng l\u01b0\u1ee3ng \u0111\u1ec3 b\u1eaft \u0111\u1ea7u m\u1ed9t ng\u00e0y m\u1edbi.\n",
            "\n",
            "--------------------------------------------------\n"
          ]
        }
      ],
      "source": [
        "comparison_prompts = [\n",
        "    \"T\u1ea1i sao c\u00e0 ph\u00ea s\u1eefa \u0111\u00e1 l\u1ea1i quan tr\u1ecdng \u0111\u1ed1i v\u1edbi cu\u1ed9c s\u1ed1ng c\u1ee7a ng\u01b0\u1eddi Vi\u1ec7t Nam.\",\n",
        "    \"\"\"T\u1ea1i sao c\u00e0 ph\u00ea s\u1eefa \u0111\u00e1 l\u1ea1i quan tr\u1ecdng \u0111\u1ed1i v\u1edbi cu\u1ed9c s\u1ed1ng c\u1ee7a ng\u01b0\u1eddi Vi\u1ec7t Nam. H\u1ec7 th\u1ed1ng c\u00e2u tr\u1ea3 l\u1eddi c\u1ee7a b\u1ea1n n\u00ean nh\u01b0 sau:\n",
        "    1. K\u1ebft n\u1ed1i x\u00e3 h\u1ed9i\n",
        "    2. T\u00e1c d\u1ee5ng s\u1ee9c kho\u1ebb\n",
        "    3. S\u1ef1 \u0111a d\u1ea1ng\"\"\",\n",
        "    \"\"\"Q: T\u1ea1i sao c\u00e0 ph\u00ea s\u1eefa \u0111\u00e1 l\u1ea1i quan tr\u1ecdng \u0111\u1ed1i v\u1edbi cu\u1ed9c s\u1ed1ng c\u1ee7a ng\u01b0\u1eddi Vi\u1ec7t Nam?\n",
        "    A: C\u00e0 ph\u00ea s\u1eefa \u0111\u00e1 r\u1ea5t quan tr\u1ecdng \u0111\u1ed1i v\u1edbi cu\u1ed9c s\u1ed1ng c\u1ee7a ng\u01b0\u1eddi Vi\u1ec7t Nam v\u00ec:\n",
        "    1.\n",
        "    2.\n",
        "    3.\"\"\",\n",
        "]\n",
        "\n",
        "for i, prompt in enumerate(comparison_prompts, 1):\n",
        "    print(f\"Prompt {i}:\")\n",
        "    get_response(prompt=prompt)"
      ]
    }
  ],
  "metadata": {
    "kernelspec": {
      "display_name": ".venv",
      "language": "python",
      "name": "python3"
    },
    "language_info": {
      "codemirror_mode": {
        "name": "ipython",
        "version": 3
      },
      "file_extension": ".py",
      "mimetype": "text/x-python",
      "name": "python",
      "nbconvert_exporter": "python",
      "pygments_lexer": "ipython3",
      "version": "3.11.10"
    }
  },
  "nbformat": 4,
  "nbformat_minor": 4
}
