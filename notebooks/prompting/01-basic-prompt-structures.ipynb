{
  "cells": [
    {
      "cell_type": "markdown",
      "metadata": {},
      "source": [
        "# Basic Prompt Structures Tutorial\n",
        "\n",
        "## Overview\n",
        "\n",
        "This tutorial explores two essential prompt structures used in AI interactions:\n",
        "1. Single-turn prompts\n",
        "2. Multi-turn prompts (conversations)\n",
        "\n",
        "We'll utilize Google's Gemini via OpenRouter and LangChain to illustrate these concepts.\n",
        "\n",
        "## Motivation\n",
        "\n",
        "Grasping various prompt structures is essential for effective AI communication. Single-turn prompts excel in quick, direct queries, while multi-turn prompts facilitate more nuanced, context-rich exchanges. Proficiency in these structures enhances the versatility and efficacy of AI applications across diverse scenarios.\n",
        "\n",
        "## Key Components\n",
        "\n",
        "1. **Single-turn Prompts**: One-time interactions with the AI model.\n",
        "2. **Multi-turn Prompts**: Sequential exchanges that preserve context.\n",
        "3. **Prompt Templates**: Standardized structures for consistent AI querying.\n",
        "4. **Conversation Chains**: Techniques for maintaining context across multiple interactions."
      ]
    },
    {
      "cell_type": "markdown",
      "metadata": {},
      "source": [
        "## Setup\n",
        "\n",
        "First, let's import the necessary libraries and set up our environment."
      ]
    },
    {
      "cell_type": "code",
      "execution_count": 1,
      "metadata": {},
      "outputs": [],
      "source": [
        "from os import getenv\n",
        "from typing import List\n",
        "\n",
        "from dotenv import load_dotenv\n",
        "from langchain.prompts import PromptTemplate\n",
        "from langchain_core.chat_history import BaseChatMessageHistory\n",
        "from langchain_core.messages import BaseMessage\n",
        "from langchain_core.prompts import ChatPromptTemplate, MessagesPlaceholder\n",
        "from langchain_core.pydantic_v1 import BaseModel, Field\n",
        "from langchain_core.runnables.history import RunnableWithMessageHistory\n",
        "from langchain_openai import ChatOpenAI\n",
        "from langchain_openai.chat_models import ChatOpenAI\n",
        "\n",
        "load_dotenv()\n",
        "\n",
        "\n",
        "# Initialize the language model\n",
        "llm = ChatOpenAI(\n",
        "    openai_api_key=getenv(\"OPENROUTER_API_KEY\"),\n",
        "    openai_api_base=getenv(\"OPENROUTER_BASE_URL\"),\n",
        "    model_name=\"google/gemini-flash-1.5\",\n",
        ")"
      ]
    },
    {
      "cell_type": "markdown",
      "metadata": {},
      "source": [
        "## 1. Single-turn Prompts\n",
        "\n",
        "Single-turn prompts are one-shot interactions with the language model. They consist of a single input (prompt) and generate a single output (response)."
      ]
    },
    {
      "cell_type": "code",
      "execution_count": 2,
      "metadata": {},
      "outputs": [
        {
          "name": "stdout",
          "output_type": "stream",
          "text": [
            "The three primary colors in additive color mixing (like on a computer screen) are **red, green, and blue**.\n",
            "\n"
          ]
        }
      ],
      "source": [
        "single_turn_prompt = \"What are the three primary colors?\"\n",
        "print(llm.invoke(single_turn_prompt).content)"
      ]
    },
    {
      "cell_type": "markdown",
      "metadata": {},
      "source": [
        "Now, let's use a PromptTemplate to create a more structured single-turn prompt:"
      ]
    },
    {
      "cell_type": "code",
      "execution_count": 3,
      "metadata": {},
      "outputs": [
        {
          "name": "stdout",
          "output_type": "stream",
          "text": [
            "Color theory is a set of guiding principles that explains how colors mix, match, and create different effects on the human eye.  It's used in various fields like art, design, and even marketing to create visually appealing and impactful results.  It's based on the understanding of how colors relate to each other, both physically (wavelengths of light) and psychologically (emotional responses).\n",
            "\n",
            "The three main components of color theory are:\n",
            "\n",
            "1. **Hue:** This refers to the pure color, like red, blue, or green.  It's the basic name we give to a color.\n",
            "\n",
            "2. **Saturation:** This describes the intensity or purity of a color. A highly saturated color is vibrant and strong, while a less saturated color appears duller or more grayed.\n",
            "\n",
            "3. **Brightness (or Value):** This refers to the lightness or darkness of a color.  A high-brightness color is light, almost white, while a low-brightness color is dark, almost black.\n",
            "\n"
          ]
        }
      ],
      "source": [
        "structured_prompt = PromptTemplate(\n",
        "    input_variables=[\"topic\"],\n",
        "    template=\"Provide a brief explanation of {topic} and list its three main components.\",\n",
        ")\n",
        "\n",
        "chain = structured_prompt | llm\n",
        "print(chain.invoke({\"topic\": \"color theory\"}).content)"
      ]
    },
    {
      "cell_type": "markdown",
      "metadata": {},
      "source": [
        "You can learn more about LangChain Expression Language from [LCEL](https://python.langchain.com/docs/concepts/lcel/)"
      ]
    },
    {
      "cell_type": "markdown",
      "metadata": {},
      "source": [
        "## 2. Multi-turn Prompts (Conversations)\n",
        "\n",
        "Multi-turn prompts involve a series of interactions with the language model, allowing for more complex and context-aware conversations."
      ]
    },
    {
      "cell_type": "code",
      "execution_count": 4,
      "metadata": {},
      "outputs": [],
      "source": [
        "class InMemoryHistory(BaseChatMessageHistory, BaseModel):\n",
        "    \"\"\"In memory implementation of chat message history.\"\"\"\n",
        "\n",
        "    messages: List[BaseMessage] = Field(default_factory=list)\n",
        "\n",
        "    def add_messages(self, messages: List[BaseMessage]) -> None:\n",
        "        \"\"\"Add a list of messages to the store\"\"\"\n",
        "        self.messages.extend(messages)\n",
        "\n",
        "    def clear(self) -> None:\n",
        "        self.messages = []\n",
        "\n",
        "\n",
        "# Here we use a global variable to store the chat message history.\n",
        "# This will make it easier to inspect it to see the underlying results.\n",
        "store = {}\n",
        "\n",
        "\n",
        "def get_by_session_id(session_id: str) -> BaseChatMessageHistory:\n",
        "    if session_id not in store:\n",
        "        store[session_id] = InMemoryHistory()\n",
        "    return store[session_id]"
      ]
    },
    {
      "cell_type": "code",
      "execution_count": 5,
      "metadata": {},
      "outputs": [
        {
          "name": "stdout",
          "output_type": "stream",
          "text": [
            "Planets are fascinating celestial bodies!  To understand them, let's break it down:\n",
            "\n",
            "**What is a Planet?**\n",
            "\n",
            "The International Astronomical Union (IAU) defines a planet as a celestial body that:\n",
            "\n",
            "1. **Orbits the Sun:**  It travels around the Sun in a roughly elliptical path.\n",
            "2. **Has sufficient mass to assume hydrostatic equilibrium:** This means it's massive enough for its own gravity to pull it into a nearly round shape.\n",
            "3. **Has cleared the neighborhood around its orbit:**  This means it's gravitationally dominant in its orbital zone; it's either pulled in or flung out any other objects of comparable size.  This is the key difference between a planet and a dwarf planet.\n",
            "\n",
            "**Types of Planets in Our Solar System:**\n",
            "\n",
            "Our solar system has eight planets, categorized into two main types:\n",
            "\n",
            "* **Inner, rocky planets (terrestrial planets):** These are smaller, denser planets closer to the Sun, composed mostly of rock and metal. They include:\n",
            "    * **Mercury:** The smallest and closest to the Sun, extremely hot and with a heavily cratered surface.\n",
            "    * **Venus:**  Similar in size to Earth, but with a scorching hot surface due to a runaway greenhouse effect.  It rotates very slowly and backward compared to most planets.\n",
            "    * **Earth:** Our home, unique for its liquid water, atmosphere supporting life, and active geology.\n",
            "    * **Mars:**  Known as the \"Red Planet\" due to iron oxide on its surface. It has a thin atmosphere and evidence of past water.\n",
            "\n",
            "* **Outer, gas giants (Jovian planets):** These are much larger, less dense planets farther from the Sun, composed mainly of gas and liquid. They include:\n",
            "    * **Jupiter:** The largest planet in our solar system, a gas giant with a Great Red Spot (a massive storm).\n",
            "    * **Saturn:** Famous for its spectacular rings made of ice and rock.  It's also a gas giant.\n",
            "    * **Uranus:** An ice giant, tilted on its side, with faint rings.\n",
            "    * **Neptune:**  A distant ice giant, with strong winds and a dark, stormy atmosphere.\n",
            "\n",
            "\n",
            "**Dwarf Planets:**\n",
            "\n",
            "These are celestial bodies that meet the first two criteria of a planet (orbit the Sun and are round) but haven't cleared their orbital neighborhood.  Examples include Pluto (formerly considered a planet), Ceres, Eris, Makemake, and Haumea.\n",
            "\n",
            "**Exoplanets:**\n",
            "\n",
            "These are planets that orbit stars other than our Sun. Thousands have been discovered, and they come in a wide variety of sizes, compositions, and orbital characteristics, some vastly different from those in our solar system.\n",
            "\n",
            "\n",
            "This is a broad overview.  Each planet has unique characteristics and a wealth of information surrounding its formation, geology, atmosphere, and potential for life (or past life).  If you'd like to learn more about a specific planet or aspect of planetary science, feel free to ask!\n",
            "\n",
            "Jupiter is the largest planet in our solar system.\n",
            "\n",
            "Jupiter is absolutely enormous compared to Earth.  Here's a comparison:\n",
            "\n",
            "* **Volume:** Jupiter's volume is about 1,321 times greater than Earth's.  Imagine over 1,300 Earths fitting inside Jupiter!\n",
            "\n",
            "* **Mass:** Jupiter's mass is about 318 times greater than Earth's.  This means it's significantly more massive, possessing a much stronger gravitational pull.\n",
            "\n",
            "* **Diameter:** Jupiter's diameter is about 11 times greater than Earth's.\n",
            "\n",
            "To put it simply, Jupiter dwarfs Earth.  It's so large that all the other planets in our solar system could fit inside it.\n",
            "\n"
          ]
        }
      ],
      "source": [
        "prompt = ChatPromptTemplate.from_messages(\n",
        "    [\n",
        "        MessagesPlaceholder(variable_name=\"history\"),\n",
        "        (\"human\", \"{question}\"),\n",
        "    ]\n",
        ")\n",
        "\n",
        "chain = prompt | llm\n",
        "\n",
        "conversation = RunnableWithMessageHistory(\n",
        "    chain,\n",
        "    get_by_session_id,\n",
        "    input_messages_key=\"question\",\n",
        "    history_messages_key=\"history\",\n",
        ")\n",
        "\n",
        "print(\n",
        "    conversation.invoke(\n",
        "        input={\n",
        "            \"question\": \"Hi, I'm learning about space. Can you tell me about planets?\"\n",
        "        },\n",
        "        config={\"configurable\": {\"session_id\": \"foo\"}},\n",
        "    ).content\n",
        ")\n",
        "print(\n",
        "    conversation.invoke(\n",
        "        input={\"question\": \"What's the largest planet in our solar system?\"},\n",
        "        config={\"configurable\": {\"session_id\": \"foo\"}},\n",
        "    ).content\n",
        ")\n",
        "print(\n",
        "    conversation.invoke(\n",
        "        input={\"question\": \"How does its size compare to Earth?\"},\n",
        "        config={\"configurable\": {\"session_id\": \"foo\"}},\n",
        "    ).content\n",
        ")"
      ]
    },
    {
      "cell_type": "markdown",
      "metadata": {},
      "source": [
        "Let's compare how single-turn and multi-turn prompts handle a series of related questions:"
      ]
    },
    {
      "cell_type": "code",
      "execution_count": 6,
      "metadata": {},
      "outputs": [
        {
          "name": "stdout",
          "output_type": "stream",
          "text": [
            "Single-turn responses:\n",
            "Q: What is the capital of France?\n",
            "A: Paris\n",
            "\n",
            "\n",
            "Q: What is its population?\n",
            "A: Please specify what \"it\" refers to.  I need to know the name of the city, country, region, or other entity you're asking about to tell you its population.\n",
            "\n",
            "\n",
            "Q: What is the city's most famous landmark?\n",
            "A: Please specify which city you're asking about.\n",
            "\n",
            "\n",
            "Multi-turn responses:\n",
            "Q: What is the capital of France?\n",
            "A: Paris\n",
            "\n",
            "\n",
            "Q: What is its population?\n",
            "A: The population of Paris is a bit tricky to define precisely because it depends on what area you're considering.\n",
            "\n",
            "* **Paris proper (intra-muros):**  Around 2.1 million people.  This refers to the city's administrative boundaries.\n",
            "\n",
            "* **Greater Paris (\u00cele-de-France region):**  Over 12 million people. This includes the suburbs and surrounding areas.\n",
            "\n",
            "So, the answer depends on the level of detail you need.\n",
            "\n",
            "\n",
            "Q: What is the city's most famous landmark?\n",
            "A: The Eiffel Tower\n",
            "\n",
            "\n"
          ]
        }
      ],
      "source": [
        "# Single-turn prompts\n",
        "prompts = [\n",
        "    \"What is the capital of France?\",\n",
        "    \"What is its population?\",\n",
        "    \"What is the city's most famous landmark?\",\n",
        "]\n",
        "\n",
        "print(\"Single-turn responses:\")\n",
        "for prompt in prompts:\n",
        "    print(f\"Q: {prompt}\")\n",
        "    print(f\"A: {llm.invoke(prompt).content}\\n\")\n",
        "\n",
        "# Multi-turn prompts\n",
        "print(\"Multi-turn responses:\")\n",
        "for prompt in prompts:\n",
        "    print(f\"Q: {prompt}\")\n",
        "    response = conversation.invoke(\n",
        "        input={\"question\": prompt}, config={\"configurable\": {\"session_id\": \"bar\"}}\n",
        "    ).content\n",
        "    print(f\"A: {response}\\n\")"
      ]
    }
  ],
  "metadata": {
    "kernelspec": {
      "display_name": ".venv",
      "language": "python",
      "name": "python3"
    },
    "language_info": {
      "codemirror_mode": {
        "name": "ipython",
        "version": 3
      },
      "file_extension": ".py",
      "mimetype": "text/x-python",
      "name": "python",
      "nbconvert_exporter": "python",
      "pygments_lexer": "ipython3",
      "version": "3.11.10"
    }
  },
  "nbformat": 4,
  "nbformat_minor": 4
}
