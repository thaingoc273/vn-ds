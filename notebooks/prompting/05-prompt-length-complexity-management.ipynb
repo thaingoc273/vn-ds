{
  "cells": [
    {
      "cell_type": "markdown",
      "metadata": {},
      "source": [
        "# Prompt Length and Complexity Management Tutorial\n",
        "\n",
        "## Overview\n",
        "\n",
        "This tutorial delves into strategies for optimizing prompt length and managing complexity when interacting with large language models (LLMs). We'll focus on two critical areas: crafting balanced prompts and tackling long-context challenges.\n",
        "\n",
        "## Motivation\n",
        "\n",
        "Mastering prompt engineering requires striking a delicate balance between providing sufficient context and maintaining conciseness. Additionally, many real-world scenarios involve processing extensive documents or intricate multi-step tasks that may exceed LLM context limits. Developing skills to address these challenges is essential for creating robust AI applications.\n",
        "\n",
        "## Key Components\n",
        "\n",
        "1. Optimizing prompt details and structure.\n",
        "2. Techniques for handling extended contexts.\n",
        "3. Practical demonstrations using Google's Gemini via OpenRouter and LangChain."
      ]
    },
    {
      "cell_type": "markdown",
      "metadata": {},
      "source": [
        "## Setup\n",
        "\n",
        "First, let's import the necessary libraries and set up our environment."
      ]
    },
    {
      "cell_type": "code",
      "execution_count": 5,
      "metadata": {},
      "outputs": [],
      "source": [
        "from os import getenv\n",
        "\n",
        "from dotenv import load_dotenv\n",
        "from langchain.chains.summarize import load_summarize_chain\n",
        "from langchain.docstore.document import Document\n",
        "from langchain.prompts import PromptTemplate\n",
        "from langchain.text_splitter import RecursiveCharacterTextSplitter\n",
        "from langchain_openai import ChatOpenAI\n",
        "\n",
        "load_dotenv()\n",
        "\n",
        "# Initialize the language model\n",
        "llm = ChatOpenAI(\n",
        "    openai_api_key=getenv(\"OPENROUTER_API_KEY\"),\n",
        "    openai_api_base=getenv(\"OPENROUTER_BASE_URL\"),\n",
        "    model_name=\"google/gemini-flash-1.5\",\n",
        ")"
      ]
    },
    {
      "cell_type": "markdown",
      "metadata": {},
      "source": [
        "## Balancing Detail and Conciseness\n",
        "\n",
        "Let's start by examining how to balance detail and conciseness in prompts. We'll compare responses from a detailed prompt and a concise prompt."
      ]
    },
    {
      "cell_type": "code",
      "execution_count": 2,
      "metadata": {},
      "outputs": [
        {
          "name": "stdout",
          "output_type": "stream",
          "text": [
            "Detailed response:\n",
            "## Artificial Intelligence: A Comprehensive Overview\n",
            "\n",
            "Artificial intelligence (AI) is a broad field encompassing the theory and development of computer systems able to perform tasks that normally require human intelligence.  This includes tasks like learning, reasoning, problem-solving, perception, and natural language understanding.  Instead of explicitly programming every action, AI systems learn from data, adapt to new information, and improve their performance over time.\n",
            "\n",
            "**Historical Context:**\n",
            "\n",
            "The concept of AI dates back to antiquity, with myths and legends featuring artificial beings exhibiting intelligence. However, the formal field emerged in the mid-20th century.  Key milestones include:\n",
            "\n",
            "* **1950s:** Alan Turing's seminal paper \"Computing Machinery and Intelligence\" proposed the Turing Test, a benchmark for machine intelligence.  The Dartmouth Workshop (1956) is widely considered the birth of AI as a field of study. Early successes focused on symbolic reasoning and game playing (e.g., checkers).\n",
            "* **1970s-1980s:**  The \"AI winter\" \u2013 periods of reduced funding and interest \u2013 followed initial optimism as limitations of early AI approaches became apparent.  Expert systems, which relied on codified human knowledge, gained popularity but had limited scalability.\n",
            "* **1990s-Present:**  Advances in computing power, the availability of vast datasets, and the development of new algorithms (especially in machine learning and deep learning) fueled a resurgence of AI.  The rise of the internet provided an unprecedented amount of data for training AI systems.\n",
            "\n",
            "\n",
            "**Key Components of AI:**\n",
            "\n",
            "Several core components contribute to the functionality of AI systems:\n",
            "\n",
            "* **Machine Learning (ML):**  Algorithms that allow systems to learn from data without explicit programming.  This includes supervised learning (learning from labeled data), unsupervised learning (finding patterns in unlabeled data), and reinforcement learning (learning through trial and error).\n",
            "* **Deep Learning (DL):** A subset of ML using artificial neural networks with multiple layers to extract higher-level features from data.  Deep learning has achieved remarkable success in areas like image recognition and natural language processing.\n",
            "* **Natural Language Processing (NLP):** Enabling computers to understand, interpret, and generate human language.  This includes tasks like machine translation, sentiment analysis, and chatbots.\n",
            "* **Computer Vision:**  Enabling computers to \"see\" and interpret images and videos.  Applications include object recognition, image classification, and facial recognition.\n",
            "* **Robotics:**  Combining AI with physical robots to perform tasks in the real world.  This includes autonomous vehicles, industrial robots, and surgical robots.\n",
            "\n",
            "\n",
            "**Practical Applications:**\n",
            "\n",
            "AI is transforming numerous industries:\n",
            "\n",
            "* **Healthcare:**  Disease diagnosis, drug discovery, personalized medicine, robotic surgery.\n",
            "* **Finance:**  Fraud detection, algorithmic trading, risk management, customer service chatbots.\n",
            "* **Transportation:**  Self-driving cars, traffic optimization, autonomous delivery systems.\n",
            "* **Retail:**  Personalized recommendations, inventory management, customer service chatbots.\n",
            "* **Manufacturing:**  Predictive maintenance, quality control, process optimization.\n",
            "\n",
            "\n",
            "**Examples:**\n",
            "\n",
            "* **Siri/Alexa:**  Virtual assistants utilizing NLP and speech recognition.\n",
            "* **Google Translate:**  Machine translation powered by deep learning.\n",
            "* **Self-driving cars (Tesla, Waymo):**  Utilize computer vision, sensor fusion, and reinforcement learning.\n",
            "* **Spam filters:**  Employ machine learning to identify and filter unwanted emails.\n",
            "* **Recommendation systems (Netflix, Amazon):**  Use collaborative filtering and other ML techniques to suggest products or content.\n",
            "\n",
            "\n",
            "**Controversies and Debates:**\n",
            "\n",
            "The rapid advancement of AI has raised significant ethical and societal concerns:\n",
            "\n",
            "* **Job displacement:**  Automation driven by AI could lead to widespread job losses in certain sectors.\n",
            "* **Bias and fairness:**  AI systems trained on biased data can perpetuate and amplify existing societal biases.\n",
            "* **Privacy concerns:**  The use of AI for surveillance and data collection raises serious privacy issues.\n",
            "* **Autonomous weapons systems:**  The development of lethal autonomous weapons raises ethical and security concerns.\n",
            "* **Explainability and transparency:**  Understanding how complex AI systems make decisions is crucial for accountability and trust.\n",
            "\n",
            "\n",
            "**Future Developments and Trends:**\n",
            "\n",
            "* **General-purpose AI:**  Developing AI systems with human-level intelligence and adaptability remains a long-term goal.\n",
            "* **Explainable AI (XAI):**  Focus on making AI systems more transparent and understandable.\n",
            "* **Edge AI:**  Deploying AI algorithms on devices rather than relying on cloud computing.\n",
            "* **AI for science:**  Utilizing AI to accelerate scientific discovery in fields like medicine, materials science, and climate change.\n",
            "* **Human-AI collaboration:**  Focusing on designing AI systems that work effectively alongside humans.\n",
            "\n",
            "\n",
            "In conclusion, AI is a rapidly evolving field with immense potential to benefit society.  However, it's crucial to address the ethical and societal challenges associated with its development and deployment to ensure its responsible and beneficial use.  The future of AI will depend on careful consideration of these issues and a commitment to building AI systems that are safe, ethical, and beneficial for all.\n",
            "\n",
            "\n",
            "Concise response:\n",
            "Artificial intelligence (AI) is the simulation of human intelligence processes by machines, especially computer systems.  These processes include learning (acquiring information and rules for using the information), reasoning (using rules to reach approximate or definite conclusions), and self-correction.\n",
            "\n",
            "Its main importance lies in its ability to automate complex tasks, analyze vast amounts of data to identify patterns humans might miss, and make predictions, leading to increased efficiency, improved decision-making, and the creation of new possibilities across numerous fields, including healthcare, finance, transportation, and more.\n",
            "\n"
          ]
        }
      ],
      "source": [
        "# Detailed prompt\n",
        "detailed_prompt = PromptTemplate(\n",
        "    input_variables=[\"topic\"],\n",
        "    template=\"\"\"Please provide a comprehensive explanation of {topic}. Include its definition, \n",
        "    historical context, key components, practical applications, and any relevant examples. \n",
        "    Also, discuss any controversies or debates surrounding the topic, and mention potential \n",
        "    future developments or trends.\"\"\",\n",
        ")\n",
        "\n",
        "# Concise prompt\n",
        "concise_prompt = PromptTemplate(\n",
        "    input_variables=[\"topic\"],\n",
        "    template=\"Briefly explain {topic} and its main importance.\",\n",
        ")\n",
        "\n",
        "topic = \"artificial intelligence\"\n",
        "\n",
        "print(\"Detailed response:\")\n",
        "print(llm.invoke(detailed_prompt.format(topic=topic)).content)\n",
        "\n",
        "print(\"\\nConcise response:\")\n",
        "print(llm.invoke(concise_prompt.format(topic=topic)).content)"
      ]
    },
    {
      "cell_type": "markdown",
      "metadata": {},
      "source": [
        "### Analysis of Prompt Balance\n",
        "\n",
        "Let's analyze the differences between the detailed and concise prompts, and discuss strategies for finding the right balance."
      ]
    },
    {
      "cell_type": "code",
      "execution_count": 3,
      "metadata": {},
      "outputs": [
        {
          "name": "stdout",
          "output_type": "stream",
          "text": [
            "Here's an analysis comparing the two responses on artificial intelligence:\n",
            "\n",
            "**1. Information Coverage:**\n",
            "\n",
            "* **Detailed Response:** This response provides a much broader and deeper coverage of AI. It delves into the historical context, key components (ML, DL, NLP, Computer Vision, Robotics, Knowledge Representation), practical applications across multiple sectors, current controversies and ethical concerns, and future trends.  It offers specific examples of AI systems and provides a nuanced perspective on the challenges and opportunities.\n",
            "\n",
            "* **Concise Response:** This response offers a very basic definition of AI and highlights its main benefits: automation, data analysis, and improved efficiency and decision-making.  It lacks the depth and breadth of the detailed response, omitting crucial aspects like the historical development, specific AI components, ethical concerns, and future trends.\n",
            "\n",
            "\n",
            "**2. Clarity and Focus:**\n",
            "\n",
            "* **Detailed Response:** While comprehensive, the detailed response maintains clarity by structuring the information logically into sections (Historical Context, Key Components, Applications, Controversies, Future Developments). Each section is well-defined, making it easy to follow the narrative.  The focus is on providing a holistic understanding of AI.\n",
            "\n",
            "* **Concise Response:** The concise response is very clear and easy to understand.  However, its brevity limits its ability to provide a nuanced perspective. The focus is solely on the core definition and benefits of AI, sacrificing depth for simplicity.\n",
            "\n",
            "\n",
            "**3. Potential Use Cases:**\n",
            "\n",
            "* **Detailed Response:** This response is suitable for educational purposes, research papers, presentations to a technical audience, policy briefings, and in-depth articles for a general audience interested in learning about the complexities of AI.\n",
            "\n",
            "* **Concise Response:** This response is appropriate for quick overviews, introductory paragraphs in broader discussions, social media posts, or situations where a brief explanation of AI is needed without delving into the specifics.\n",
            "\n",
            "\n",
            "**Strategies for Balancing Detail and Conciseness in Prompts:**\n",
            "\n",
            "To get the best response, carefully craft your prompts by considering:\n",
            "\n",
            "* **Specify the desired length or format:**  Use phrases like \"provide a concise overview,\" \"give a detailed explanation,\" \"summarize in one paragraph,\" or \"write a 500-word essay.\"\n",
            "\n",
            "* **Define the target audience:**  Mention who the response is intended for (e.g., \"explain AI to a non-technical audience,\" \"describe AI for a group of computer science students\").  This helps tailor the level of detail appropriately.\n",
            "\n",
            "* **Clearly state the scope:**  Specify the aspects of AI you're interested in (e.g., \"focus on the ethical implications of AI,\" \"discuss the applications of AI in healthcare,\" \"compare different machine learning algorithms\").  Avoid overly broad prompts.\n",
            "\n",
            "* **Use keywords strategically:**  Include keywords that guide the response towards the desired level of detail (e.g., \"basic principles,\" \"advanced techniques,\" \"recent breakthroughs\").\n",
            "\n",
            "* **Iterative prompting:**  Start with a broad prompt and then refine it based on the initial response.  Ask follow-up questions to clarify or delve deeper into specific areas.\n",
            "\n",
            "\n",
            "By employing these strategies, you can effectively guide the AI to generate responses that are both informative and appropriately detailed for your specific needs.  A well-crafted prompt is crucial for obtaining a response that balances conciseness and comprehensiveness effectively.\n",
            "\n"
          ]
        }
      ],
      "source": [
        "analysis_prompt = PromptTemplate(\n",
        "    input_variables=[\"detailed_response\", \"concise_response\"],\n",
        "    template=\"\"\"Compare the following two responses on artificial intelligence:\n",
        "\n",
        "Detailed response:\n",
        "{detailed_response}\n",
        "\n",
        "Concise response:\n",
        "{concise_response}\n",
        "\n",
        "Analyze the differences in terms of:\n",
        "1. Information coverage\n",
        "2. Clarity and focus\n",
        "3. Potential use cases for each type of response\n",
        "\n",
        "Then, suggest strategies for balancing detail and conciseness in prompts.\"\"\",\n",
        ")\n",
        "\n",
        "detailed_response = llm.invoke(detailed_prompt.format(topic=topic)).content\n",
        "concise_response = llm.invoke(concise_prompt.format(topic=topic)).content\n",
        "\n",
        "analysis = llm.invoke(\n",
        "    analysis_prompt.format(\n",
        "        detailed_response=detailed_response, concise_response=concise_response\n",
        "    )\n",
        ").content\n",
        "\n",
        "print(analysis)"
      ]
    },
    {
      "cell_type": "markdown",
      "metadata": {},
      "source": [
        "## Strategies for Handling Long Contexts\n",
        "\n",
        "Now, let's explore strategies for handling long contexts, which often exceed the token limits of language models."
      ]
    },
    {
      "cell_type": "markdown",
      "metadata": {},
      "source": [
        "### 1. Chunking\n",
        "\n",
        "Chunking involves breaking long texts into smaller, manageable pieces. Let's demonstrate this using a long text passage."
      ]
    },
    {
      "cell_type": "code",
      "execution_count": 4,
      "metadata": {},
      "outputs": [
        {
          "name": "stdout",
          "output_type": "stream",
          "text": [
            "Number of chunks: 2\n",
            "First chunk: Artificial intelligence (AI) is a branch of computer science that aims to create intelligent machines that can simulate human cognitive processes.\n",
            "The field of AI has a rich history dating back to the...\n"
          ]
        }
      ],
      "source": [
        "# [A long passage about artificial intelligence, its history, applications, and future prospects...]\n",
        "\n",
        "long_text = \"\"\"\n",
        "Artificial intelligence (AI) is a branch of computer science that aims to create intelligent machines that can simulate human cognitive processes.\n",
        "The field of AI has a rich history dating back to the 1950s, with key milestones such as the development of the first neural networks and expert systems.\n",
        "AI encompasses a wide range of subfields, including machine learning, natural language processing, computer vision, and robotics.\n",
        "Practical applications of AI include speech recognition, image classification, autonomous vehicles, and medical diagnosis.\n",
        "AI has the potential to revolutionize many industries, from healthcare and finance to transportation and entertainment.\n",
        "However, there are ongoing debates and controversies surrounding AI, such as concerns about job displacement, bias in algorithms, and the ethical implications of autonomous systems.\n",
        "Looking ahead, the future of AI holds promise for advancements in areas like explainable AI, AI ethics, and human-AI collaboration. \n",
        "The intersection of AI with other technologies like blockchain, quantum computing, and biotechnology will likely shape the future of the field.\n",
        "But as AI continues to evolve, it is essential to consider the societal impact and ethical implications of these technologies.\n",
        "One of the key challenges for AI researchers and developers is to strike a balance between innovation and responsibility, ensuring that AI benefits society as \n",
        "a whole while minimizing potential risks.\n",
        "If managed effectively, AI has the potential to transform our world in ways we can only begin to imagine.\n",
        "Though the future of AI is uncertain, one thing is clear: the impact of artificial intelligence will be profound and far-reaching.\n",
        "\"\"\"\n",
        "\n",
        "# Initialize the text splitter\n",
        "text_splitter = RecursiveCharacterTextSplitter(\n",
        "    chunk_size=1000, chunk_overlap=200, length_function=len\n",
        ")\n",
        "\n",
        "# Split the text into chunks\n",
        "chunks = text_splitter.split_text(long_text)\n",
        "\n",
        "print(f\"Number of chunks: {len(chunks)}\")\n",
        "print(f\"First chunk: {chunks[0][:200]}...\")"
      ]
    },
    {
      "cell_type": "markdown",
      "metadata": {},
      "source": [
        "### 2. Summarization\n",
        "\n",
        "Summarization can be used to condense long texts while retaining key information. Let's use LangChain's summarization chain to demonstrate this."
      ]
    },
    {
      "cell_type": "code",
      "execution_count": 6,
      "metadata": {},
      "outputs": [
        {
          "name": "stderr",
          "output_type": "stream",
          "text": [
            "/Users/tangquocthai/Works/personal/vn-ds/.venv/lib/python3.11/site-packages/langchain_openai/chat_models/base.py:360: UserWarning: Unexpected type for token usage: <class 'NoneType'>\n",
            "  warnings.warn(f\"Unexpected type for token usage: {type(new_usage)}\")\n"
          ]
        },
        {
          "name": "stdout",
          "output_type": "stream",
          "text": [
            "Summary:\n",
            "AI, rapidly evolving since the 1950s, offers transformative potential across industries but necessitates careful ethical consideration and responsible development to mitigate societal risks.  Interdisciplinary collaboration is key to harnessing its benefits.\n",
            "\n"
          ]
        }
      ],
      "source": [
        "# Convert text chunks to Document objects\n",
        "doc_chunks = [Document(page_content=chunk) for chunk in chunks]\n",
        "\n",
        "# Load the summarization chain\n",
        "chain = load_summarize_chain(llm, chain_type=\"map_reduce\")\n",
        "\n",
        "# Summarize the long text\n",
        "summary_result = chain.invoke(doc_chunks)\n",
        "\n",
        "print(\"Summary:\")\n",
        "print(summary_result[\"output_text\"])"
      ]
    },
    {
      "cell_type": "markdown",
      "metadata": {},
      "source": [
        "### 3. Iterative Processing\n",
        "\n",
        "For complex tasks that require multiple steps, we can use iterative processing. Let's demonstrate this with a multi-step analysis task."
      ]
    },
    {
      "cell_type": "code",
      "execution_count": 8,
      "metadata": {},
      "outputs": [
        {
          "name": "stdout",
          "output_type": "stream",
          "text": [
            "Final Analysis:\n",
            "Analysis: The provided text presents a balanced and comprehensive overview of artificial intelligence.  It effectively covers the key aspects of AI, from its historical context and technical underpinnings to its societal impact and ethical considerations. The structure is clear and logical, progressing from foundational concepts to future implications.  Each section offers a concise key takeaway, reinforcing the main points. The consistent emphasis on ethical considerations highlights a crucial and often overlooked aspect of AI development and deployment.\n",
            "\n",
            "Conclusion: The text offers a strong, well-structured introduction to artificial intelligence, emphasizing the importance of responsible development and ethical considerations alongside its technological advancements and potential benefits.  It successfully conveys the complexity and multifaceted nature of AI, preparing the reader for a deeper exploration of the subject.\n",
            "\n"
          ]
        }
      ],
      "source": [
        "def iterative_analysis(text, steps):\n",
        "    \"\"\"\n",
        "    Perform iterative analysis on a given text.\n",
        "\n",
        "    Args:\n",
        "    text (str): The text to analyze.\n",
        "    steps (list): List of analysis steps to perform.\n",
        "\n",
        "    Returns:\n",
        "    str: The final analysis result.\n",
        "    \"\"\"\n",
        "    result = text\n",
        "    for step in steps:\n",
        "        prompt = PromptTemplate(\n",
        "            input_variables=[\"text\"],\n",
        "            template=f\"Analyze the following text. {step}\\n\\nText: {{text}}\\n\\nAnalysis:\",\n",
        "        )\n",
        "        result = llm.invoke(prompt.format(text=result)).content\n",
        "    return result\n",
        "\n",
        "\n",
        "analysis_steps = [\n",
        "    \"Identify the main topics discussed.\",\n",
        "    \"Summarize the key points for each topic.\",\n",
        "    \"Provide a brief conclusion based on the analysis.\",\n",
        "]\n",
        "\n",
        "final_analysis = iterative_analysis(long_text, analysis_steps)\n",
        "print(\"Final Analysis:\")\n",
        "print(final_analysis)"
      ]
    }
  ],
  "metadata": {
    "kernelspec": {
      "display_name": ".venv",
      "language": "python",
      "name": "python3"
    },
    "language_info": {
      "codemirror_mode": {
        "name": "ipython",
        "version": 3
      },
      "file_extension": ".py",
      "mimetype": "text/x-python",
      "name": "python",
      "nbconvert_exporter": "python",
      "pygments_lexer": "ipython3",
      "version": "3.11.10"
    }
  },
  "nbformat": 4,
  "nbformat_minor": 4
}
