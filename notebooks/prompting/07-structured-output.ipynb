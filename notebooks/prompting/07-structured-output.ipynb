{
  "cells": [
    {
      "cell_type": "code",
      "execution_count": 1,
      "metadata": {},
      "outputs": [],
      "source": [
        "import json\n",
        "from datetime import datetime\n",
        "from os import getenv\n",
        "\n",
        "from dotenv import load_dotenv\n",
        "from openai import OpenAI\n",
        "from pydantic import BaseModel, Field\n",
        "\n",
        "load_dotenv()\n",
        "\n",
        "# Initialize the language model\n",
        "llm = OpenAI(\n",
        "    api_key=getenv(\"OPENROUTER_API_KEY\"),\n",
        "    base_url=getenv(\"OPENROUTER_BASE_URL\"),\n",
        ")"
      ]
    },
    {
      "cell_type": "markdown",
      "metadata": {},
      "source": [
        "## Unstructured Output"
      ]
    },
    {
      "cell_type": "code",
      "execution_count": 2,
      "metadata": {},
      "outputs": [
        {
          "name": "stdout",
          "output_type": "stream",
          "text": [
            "## Harry Potter Profile: \n",
            "\n",
            "**Full name:** Harry James Potter\n",
            "**Birthday:** July 31, 1980\n",
            "**Blood status:** Half-blood\n",
            "**Parents:** Lily Evans and James Potter (deceased)\n",
            "**Raised by:** Petunia Dursley and Vernon Dursley (aunt and uncle)\n",
            "**Marital Status:** Married to Ginny Weasley\n",
            "**Children:** James Sirius, Albus Severus, and Lily Luna\n",
            "**House:** Gryffindor\n",
            "**Occupation:** Auror (formerly) Head of the Auror Office (formerly)\n",
            "\n",
            "### Appearance: \n",
            "* Messy black hair\n",
            "* Bright green eyes\n",
            "* Lightning bolt-shaped scar on his forehead (from Lord Voldemort) \n",
            "* Wears round glasses\n",
            "\n",
            "### Personality:\n",
            "* Brave\n",
            "* Loyal\n",
            "* Selfless\n",
            "* Kind-hearted\n",
            "* Determined\n",
            "\n",
            "### Abilities: \n",
            "* Skilled wizard \n",
            "* Excellent Defense Against the Dark Arts skills\n",
            "* Speaks Parseltongue (the ability to speak to snakes)\n",
            "* Can fly without a broom (due to the scar on his head)\n",
            "* Famous as \"The Boy Who Lived\" \n",
            "\n",
            "### Important Events in Harry's Life:\n",
            "* **1981:** Survives Lord Voldemort's attack and becomes \"The Boy Who Lived\" \n",
            "* **1991:** Begins attending Hogwarts School of Witchcraft and Wizardry\n",
            "* **1992:** Meets Dobby and learns about the Chamber of Secrets\n",
            "* **1993:** Faces Sirius Black and encounters the Marauder's Map\n",
            "* **1994:** Participates in the Triwizard Tournament\n",
            "* **1995:** Witnesses Voldemort's return and joins Dumbledore's Army\n",
            "* **1996:** Hunts Horcruxes with Ron and Hermione\n",
            "* **1997:** Destroys several Horcruxes and participates in the Battle of Hogwarts\n",
            "* **1998:** Defeats Lord Voldemort and ends the Second Wizarding War\n",
            "\n",
            "\n",
            "**Additional Notes:**\n",
            "* Harry Potter is the main protagonist of J.K. Rowling's Harry Potter series. \n",
            "* He is considered to be one of the most famous literary figures of all time.\n",
            "* The Harry Potter series has been translated into 80 languages and has sold over 500 million copies worldwide.\n"
          ]
        }
      ],
      "source": [
        "# Define your prompt\n",
        "prompt = \"Can you tell me about Harry Potter's profile?\"\n",
        "\n",
        "# Make the LLM call\n",
        "response = llm.chat.completions.create(\n",
        "    model=\"google/gemini-pro\",\n",
        "    messages=[{\"role\": \"user\", \"content\": prompt}],\n",
        ")\n",
        "\n",
        "# Print the result\n",
        "print(response.choices[0].message.content)"
      ]
    },
    {
      "cell_type": "markdown",
      "metadata": {},
      "source": [
        "## Structured Output"
      ]
    },
    {
      "cell_type": "code",
      "execution_count": 3,
      "metadata": {},
      "outputs": [
        {
          "name": "stdout",
          "output_type": "stream",
          "text": [
            "Name: Harry Potter\n",
            "DoB: 1980-07-31 00:00:00\n",
            "Occupation: Wizard\n"
          ]
        }
      ],
      "source": [
        "class Person(BaseModel):\n",
        "    name: str = Field(description=\"The person's full name\")\n",
        "    date_of_birth: datetime = Field(\n",
        "        description=\"The person's date of birth in ISO 8601 format (YYYY-MM-DD)\"\n",
        "    )\n",
        "    occupation: str = Field(description=\"The person's current job or profession\")\n",
        "\n",
        "\n",
        "def get_person_info() -> Person:\n",
        "    \"\"\"Get information about a person from LLM response.\"\"\"\n",
        "\n",
        "    return Person(name=\"\", age=0, occupation=\"\")\n",
        "\n",
        "\n",
        "# Create the function description for the API\n",
        "function_description = {\n",
        "    \"name\": \"get_person_info\",\n",
        "    \"description\": \"Get information about a person from LLM response.\",\n",
        "    \"parameters\": Person.model_json_schema(),\n",
        "}\n",
        "\n",
        "# Make the LLM call\n",
        "response = llm.chat.completions.create(\n",
        "    model=\"google/gemini-pro\",\n",
        "    messages=[{\"role\": \"user\", \"content\": prompt}],\n",
        "    functions=[function_description],\n",
        "    function_call={\"name\": \"get_person_info\"},\n",
        ")\n",
        "\n",
        "# Extract the function call arguments\n",
        "function_call = response.choices[0].message.tool_calls[0].function\n",
        "arguments = json.loads(function_call.arguments)\n",
        "\n",
        "# Create a Person object from the arguments\n",
        "person = Person(**arguments)\n",
        "\n",
        "# Print the result\n",
        "print(f\"Name: {person.name}\")\n",
        "print(f\"DoB: {person.date_of_birth}\")\n",
        "print(f\"Occupation: {person.occupation}\")"
      ]
    }
  ],
  "metadata": {
    "kernelspec": {
      "display_name": ".venv",
      "language": "python",
      "name": "python3"
    },
    "language_info": {
      "codemirror_mode": {
        "name": "ipython",
        "version": 3
      },
      "file_extension": ".py",
      "mimetype": "text/x-python",
      "name": "python",
      "nbconvert_exporter": "python",
      "pygments_lexer": "ipython3",
      "version": "3.11.10"
    }
  },
  "nbformat": 4,
  "nbformat_minor": 2
}
