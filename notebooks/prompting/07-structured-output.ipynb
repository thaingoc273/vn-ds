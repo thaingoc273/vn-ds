{
  "cells": [
    {
      "cell_type": "markdown",
      "metadata": {},
      "source": [
        "# Structured Output\n",
        "\n",
        "## Overview\n",
        "\n",
        "This tutorial delves into tehcnique of function calling in language models to achieve structured outputs from any LLM.\n",
        "\n",
        "## Motivation\n",
        "\n",
        "In the rapidly evolving field of artificial intelligence, the ability to generate structured outputs from language models is becoming increasingly important. Structured outputs allow for more precise and interpretable results, which are essential for applications ranging from data extraction to automated decision-making.\n",
        "\n",
        "## Key Components\n",
        "\n",
        "1. Understanding how to invoke specific functions within a language model to generate structured outputs.\n",
        "2. Methods for ensuring that the generated outputs conform to the expected structure and format.\n",
        "3. Practical examples of integrating structured output generation with popular frameworks like LangChain and OpenRouter."
      ]
    },
    {
      "cell_type": "markdown",
      "metadata": {},
      "source": [
        "## Setup\n",
        "\n",
        "First, let's import the necessary libraries and set up our environment."
      ]
    },
    {
      "cell_type": "code",
      "execution_count": 1,
      "metadata": {},
      "outputs": [],
      "source": [
        "import json\n",
        "from datetime import datetime\n",
        "from os import getenv\n",
        "\n",
        "from dotenv import load_dotenv\n",
        "from openai import OpenAI\n",
        "from pydantic import BaseModel, Field\n",
        "\n",
        "load_dotenv()\n",
        "\n",
        "# Initialize the language model\n",
        "llm = OpenAI(\n",
        "    api_key=getenv(\"OPENROUTER_API_KEY\"),\n",
        "    base_url=getenv(\"OPENROUTER_BASE_URL\"),\n",
        ")"
      ]
    },
    {
      "cell_type": "markdown",
      "metadata": {},
      "source": [
        "## Unstructured Output"
      ]
    },
    {
      "cell_type": "code",
      "execution_count": 2,
      "metadata": {},
      "outputs": [
        {
          "name": "stdout",
          "output_type": "stream",
          "text": [
            "Harry Potter's profile can be considered from several angles: physical, personality, magical abilities, and history.  Here's a breakdown:\n",
            "\n",
            "**Physical:**\n",
            "\n",
            "* **Appearance:**  Harry is described as small and thin for his age, with messy black hair that sticks up in the back, bright green eyes (identical to his mother's), and round glasses. He also has a lightning bolt-shaped scar on his forehead, the result of Voldemort's attack.\n",
            "* **Distinguishing Features:**  The lightning bolt scar is his most prominent feature.  He is also known for his unruly hair and his generally unassuming appearance.\n",
            "\n",
            "**Personality:**\n",
            "\n",
            "* **Brave and Courageous:** Harry repeatedly faces danger and adversity head-on, often putting himself at risk for others.\n",
            "* **Loyal and Devoted:** He is fiercely loyal to his friends and loved ones and willing to do anything for them.\n",
            "* **Humble and Modest:** Despite his fame and achievements, Harry remains grounded and doesn't actively seek attention or glory.\n",
            "* **Independent and Resourceful:**  He often has to rely on his own wits and quick thinking to get out of tricky situations.\n",
            "* **Sarcastic and Witty:**  Harry has a dry sense of humor and is known to make sarcastic remarks, especially when under stress.\n",
            "* **Hot-headed and Impulsive:**  He can be reckless and act without thinking, particularly when his friends are threatened.\n",
            "* **Compassionate and Empathetic:**  Harry shows compassion for others, even those who have wronged him, and understands the suffering of others.\n",
            "\n",
            "**Magical Abilities:**\n",
            "\n",
            "* **Defense Against the Dark Arts:**  He shows a natural aptitude for defensive magic and becomes incredibly skilled at it.\n",
            "* **Parseltongue:**  The rare ability to speak to snakes, inherited from Voldemort after the failed killing curse.\n",
            "* **Flying:**  A natural talent for flying on a broomstick, evident from a young age.\n",
            "* **Connection to Voldemort:**  A complex and unwilling connection to Voldemort, allowing him to access Voldemort's mind and emotions at times.\n",
            "* **Staunch Heart and Determination:** While not a specific magical ability, his resilience and determination play a crucial role in his magical successes.\n",
            "\n",
            "**History:**\n",
            "\n",
            "* **The Boy Who Lived:**  Famous for surviving Voldemort's killing curse as an infant, resulting in the Dark Lord's downfall.\n",
            "* **Orphaned:**  Parents, James and Lily Potter, were murdered by Voldemort, leaving him to be raised by his uncaring aunt and uncle, the Dursleys.\n",
            "* **Hogwarts Student:**  Attended Hogwarts School of Witchcraft and Wizardry and sorted into Gryffindor House.\n",
            "* **Member of the Order of the Phoenix:**  Joined the secret society dedicated to fighting against Voldemort and his Death Eaters.\n",
            "* **Defeater of Voldemort:**  Ultimately responsible for Voldemort's final defeat, fulfilling the prophecy and saving the wizarding world.\n",
            "\n",
            "This profile provides a rounded picture of Harry Potter, showcasing not just his abilities but also his flaws and the experiences that shaped him. He is a complex and compelling character who resonates with readers because of his relatable struggles and his ultimate triumph over adversity.\n",
            "\n"
          ]
        }
      ],
      "source": [
        "# Define your prompt\n",
        "prompt = \"Can you tell me about Harry Potter's profile?\"\n",
        "\n",
        "# Make the LLM call\n",
        "response = llm.chat.completions.create(\n",
        "    model=\"google/gemini-pro-1.5\",\n",
        "    messages=[{\"role\": \"user\", \"content\": prompt}],\n",
        ")\n",
        "\n",
        "# Print the result\n",
        "print(response.choices[0].message.content)"
      ]
    },
    {
      "cell_type": "markdown",
      "metadata": {},
      "source": [
        "## Structured Output"
      ]
    },
    {
      "cell_type": "code",
      "execution_count": 3,
      "metadata": {},
      "outputs": [
        {
          "name": "stdout",
          "output_type": "stream",
          "text": [
            "Name: Harry Potter\n",
            "DoB: 1980-07-31 00:00:00\n",
            "Occupation: Auror\n"
          ]
        }
      ],
      "source": [
        "class Person(BaseModel):\n",
        "    name: str = Field(description=\"The person's full name\")\n",
        "    date_of_birth: datetime = Field(\n",
        "        description=\"The person's date of birth in ISO 8601 format (YYYY-MM-DD)\"\n",
        "    )\n",
        "    occupation: str = Field(description=\"The person's current job or profession\")\n",
        "\n",
        "\n",
        "def get_person_info() -> Person:\n",
        "    \"\"\"Get information about a person from LLM response.\"\"\"\n",
        "\n",
        "    return Person(name=\"\", age=0, occupation=\"\")\n",
        "\n",
        "\n",
        "# Create the function description for the API\n",
        "function_description = {\n",
        "    \"name\": \"get_person_info\",\n",
        "    \"description\": \"Get information about a person from LLM response.\",\n",
        "    \"parameters\": Person.model_json_schema(),\n",
        "}\n",
        "\n",
        "# Make the LLM call\n",
        "response = llm.chat.completions.create(\n",
        "    model=\"google/gemini-pro\",\n",
        "    messages=[{\"role\": \"user\", \"content\": prompt}],\n",
        "    functions=[function_description],\n",
        "    function_call={\"name\": \"get_person_info\"},\n",
        ")\n",
        "\n",
        "# Extract the function call arguments\n",
        "function_call = response.choices[0].message.tool_calls[0].function\n",
        "arguments = json.loads(function_call.arguments)\n",
        "\n",
        "# Create a Person object from the arguments\n",
        "person = Person(**arguments)\n",
        "\n",
        "# Print the result\n",
        "print(f\"Name: {person.name}\")\n",
        "print(f\"DoB: {person.date_of_birth}\")\n",
        "print(f\"Occupation: {person.occupation}\")"
      ]
    }
  ],
  "metadata": {
    "kernelspec": {
      "display_name": ".venv",
      "language": "python",
      "name": "python3"
    },
    "language_info": {
      "codemirror_mode": {
        "name": "ipython",
        "version": 3
      },
      "file_extension": ".py",
      "mimetype": "text/x-python",
      "name": "python",
      "nbconvert_exporter": "python",
      "pygments_lexer": "ipython3",
      "version": "3.11.10"
    }
  },
  "nbformat": 4,
  "nbformat_minor": 2
}
